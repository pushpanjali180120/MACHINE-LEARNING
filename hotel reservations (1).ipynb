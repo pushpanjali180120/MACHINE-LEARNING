{
 "cells": [
  {
   "cell_type": "code",
   "execution_count": 1,
   "id": "91cdd9b0",
   "metadata": {},
   "outputs": [],
   "source": [
    "import pandas as pd\n",
    "import numpy as np\n",
    "import seaborn as sns\n",
    "import matplotlib.pyplot as plt\n",
    "from warnings import filterwarnings\n",
    "filterwarnings('ignore')"
   ]
  },
  {
   "cell_type": "code",
   "execution_count": 2,
   "id": "56f5f9fe",
   "metadata": {},
   "outputs": [],
   "source": [
    "# Algorithm used to build the model\n",
    "\n",
    "from sklearn.model_selection import train_test_split   # to perfom train test split\n",
    "from sklearn.linear_model import LogisticRegression     \n",
    "from sklearn.tree import DecisionTreeClassifier\n",
    "from sklearn.ensemble import RandomForestClassifier"
   ]
  },
  {
   "cell_type": "code",
   "execution_count": 3,
   "id": "184f7f9e",
   "metadata": {},
   "outputs": [],
   "source": [
    "# Model Evaluation\n",
    "\n",
    "from sklearn.metrics import confusion_matrix,classification_report\n",
    "\n",
    "# For scaling my data  -- \n",
    "from sklearn.preprocessing import StandardScaler"
   ]
  },
  {
   "cell_type": "markdown",
   "id": "2b60165f",
   "metadata": {},
   "source": [
    "### Loading the dataset"
   ]
  },
  {
   "cell_type": "code",
   "execution_count": 4,
   "id": "d38de15b",
   "metadata": {},
   "outputs": [],
   "source": [
    "df = pd.read_csv(r\"C:\\Users\\pushp\\Downloads\\Hotel Reservations.csv\\Hotel Reservations.csv\")"
   ]
  },
  {
   "cell_type": "code",
   "execution_count": 5,
   "id": "2db534a0",
   "metadata": {},
   "outputs": [
    {
     "data": {
      "text/html": [
       "<div>\n",
       "<style scoped>\n",
       "    .dataframe tbody tr th:only-of-type {\n",
       "        vertical-align: middle;\n",
       "    }\n",
       "\n",
       "    .dataframe tbody tr th {\n",
       "        vertical-align: top;\n",
       "    }\n",
       "\n",
       "    .dataframe thead th {\n",
       "        text-align: right;\n",
       "    }\n",
       "</style>\n",
       "<table border=\"1\" class=\"dataframe\">\n",
       "  <thead>\n",
       "    <tr style=\"text-align: right;\">\n",
       "      <th></th>\n",
       "      <th>Booking_ID</th>\n",
       "      <th>no_of_adults</th>\n",
       "      <th>no_of_children</th>\n",
       "      <th>no_of_weekend_nights</th>\n",
       "      <th>no_of_week_nights</th>\n",
       "      <th>type_of_meal_plan</th>\n",
       "      <th>required_car_parking_space</th>\n",
       "      <th>room_type_reserved</th>\n",
       "      <th>lead_time</th>\n",
       "      <th>arrival_year</th>\n",
       "      <th>arrival_month</th>\n",
       "      <th>arrival_date</th>\n",
       "      <th>market_segment_type</th>\n",
       "      <th>repeated_guest</th>\n",
       "      <th>no_of_previous_cancellations</th>\n",
       "      <th>no_of_previous_bookings_not_canceled</th>\n",
       "      <th>avg_price_per_room</th>\n",
       "      <th>no_of_special_requests</th>\n",
       "      <th>booking_status</th>\n",
       "    </tr>\n",
       "  </thead>\n",
       "  <tbody>\n",
       "    <tr>\n",
       "      <th>0</th>\n",
       "      <td>INN00001</td>\n",
       "      <td>2</td>\n",
       "      <td>0</td>\n",
       "      <td>1</td>\n",
       "      <td>2</td>\n",
       "      <td>Meal Plan 1</td>\n",
       "      <td>0</td>\n",
       "      <td>Room_Type 1</td>\n",
       "      <td>224</td>\n",
       "      <td>2017</td>\n",
       "      <td>10</td>\n",
       "      <td>2</td>\n",
       "      <td>Offline</td>\n",
       "      <td>0</td>\n",
       "      <td>0</td>\n",
       "      <td>0</td>\n",
       "      <td>65.00</td>\n",
       "      <td>0</td>\n",
       "      <td>Not_Canceled</td>\n",
       "    </tr>\n",
       "    <tr>\n",
       "      <th>1</th>\n",
       "      <td>INN00002</td>\n",
       "      <td>2</td>\n",
       "      <td>0</td>\n",
       "      <td>2</td>\n",
       "      <td>3</td>\n",
       "      <td>Not Selected</td>\n",
       "      <td>0</td>\n",
       "      <td>Room_Type 1</td>\n",
       "      <td>5</td>\n",
       "      <td>2018</td>\n",
       "      <td>11</td>\n",
       "      <td>6</td>\n",
       "      <td>Online</td>\n",
       "      <td>0</td>\n",
       "      <td>0</td>\n",
       "      <td>0</td>\n",
       "      <td>106.68</td>\n",
       "      <td>1</td>\n",
       "      <td>Not_Canceled</td>\n",
       "    </tr>\n",
       "    <tr>\n",
       "      <th>2</th>\n",
       "      <td>INN00003</td>\n",
       "      <td>1</td>\n",
       "      <td>0</td>\n",
       "      <td>2</td>\n",
       "      <td>1</td>\n",
       "      <td>Meal Plan 1</td>\n",
       "      <td>0</td>\n",
       "      <td>Room_Type 1</td>\n",
       "      <td>1</td>\n",
       "      <td>2018</td>\n",
       "      <td>2</td>\n",
       "      <td>28</td>\n",
       "      <td>Online</td>\n",
       "      <td>0</td>\n",
       "      <td>0</td>\n",
       "      <td>0</td>\n",
       "      <td>60.00</td>\n",
       "      <td>0</td>\n",
       "      <td>Canceled</td>\n",
       "    </tr>\n",
       "    <tr>\n",
       "      <th>3</th>\n",
       "      <td>INN00004</td>\n",
       "      <td>2</td>\n",
       "      <td>0</td>\n",
       "      <td>0</td>\n",
       "      <td>2</td>\n",
       "      <td>Meal Plan 1</td>\n",
       "      <td>0</td>\n",
       "      <td>Room_Type 1</td>\n",
       "      <td>211</td>\n",
       "      <td>2018</td>\n",
       "      <td>5</td>\n",
       "      <td>20</td>\n",
       "      <td>Online</td>\n",
       "      <td>0</td>\n",
       "      <td>0</td>\n",
       "      <td>0</td>\n",
       "      <td>100.00</td>\n",
       "      <td>0</td>\n",
       "      <td>Canceled</td>\n",
       "    </tr>\n",
       "    <tr>\n",
       "      <th>4</th>\n",
       "      <td>INN00005</td>\n",
       "      <td>2</td>\n",
       "      <td>0</td>\n",
       "      <td>1</td>\n",
       "      <td>1</td>\n",
       "      <td>Not Selected</td>\n",
       "      <td>0</td>\n",
       "      <td>Room_Type 1</td>\n",
       "      <td>48</td>\n",
       "      <td>2018</td>\n",
       "      <td>4</td>\n",
       "      <td>11</td>\n",
       "      <td>Online</td>\n",
       "      <td>0</td>\n",
       "      <td>0</td>\n",
       "      <td>0</td>\n",
       "      <td>94.50</td>\n",
       "      <td>0</td>\n",
       "      <td>Canceled</td>\n",
       "    </tr>\n",
       "  </tbody>\n",
       "</table>\n",
       "</div>"
      ],
      "text/plain": [
       "  Booking_ID  no_of_adults  no_of_children  no_of_weekend_nights  \\\n",
       "0   INN00001             2               0                     1   \n",
       "1   INN00002             2               0                     2   \n",
       "2   INN00003             1               0                     2   \n",
       "3   INN00004             2               0                     0   \n",
       "4   INN00005             2               0                     1   \n",
       "\n",
       "   no_of_week_nights type_of_meal_plan  required_car_parking_space  \\\n",
       "0                  2       Meal Plan 1                           0   \n",
       "1                  3      Not Selected                           0   \n",
       "2                  1       Meal Plan 1                           0   \n",
       "3                  2       Meal Plan 1                           0   \n",
       "4                  1      Not Selected                           0   \n",
       "\n",
       "  room_type_reserved  lead_time  arrival_year  arrival_month  arrival_date  \\\n",
       "0        Room_Type 1        224          2017             10             2   \n",
       "1        Room_Type 1          5          2018             11             6   \n",
       "2        Room_Type 1          1          2018              2            28   \n",
       "3        Room_Type 1        211          2018              5            20   \n",
       "4        Room_Type 1         48          2018              4            11   \n",
       "\n",
       "  market_segment_type  repeated_guest  no_of_previous_cancellations  \\\n",
       "0             Offline               0                             0   \n",
       "1              Online               0                             0   \n",
       "2              Online               0                             0   \n",
       "3              Online               0                             0   \n",
       "4              Online               0                             0   \n",
       "\n",
       "   no_of_previous_bookings_not_canceled  avg_price_per_room  \\\n",
       "0                                     0               65.00   \n",
       "1                                     0              106.68   \n",
       "2                                     0               60.00   \n",
       "3                                     0              100.00   \n",
       "4                                     0               94.50   \n",
       "\n",
       "   no_of_special_requests booking_status  \n",
       "0                       0   Not_Canceled  \n",
       "1                       1   Not_Canceled  \n",
       "2                       0       Canceled  \n",
       "3                       0       Canceled  \n",
       "4                       0       Canceled  "
      ]
     },
     "execution_count": 5,
     "metadata": {},
     "output_type": "execute_result"
    }
   ],
   "source": [
    "df.head()"
   ]
  },
  {
   "cell_type": "markdown",
   "id": "40f0e18e",
   "metadata": {},
   "source": [
    "### Target Variable : Booking Status"
   ]
  },
  {
   "cell_type": "markdown",
   "id": "61775f75",
   "metadata": {},
   "source": [
    "### Data Overview"
   ]
  },
  {
   "cell_type": "code",
   "execution_count": 6,
   "id": "617ca3f3",
   "metadata": {},
   "outputs": [
    {
     "data": {
      "text/plain": [
       "(36275, 19)"
      ]
     },
     "execution_count": 6,
     "metadata": {},
     "output_type": "execute_result"
    }
   ],
   "source": [
    "df.shape"
   ]
  },
  {
   "cell_type": "code",
   "execution_count": 7,
   "id": "f4a96b23",
   "metadata": {},
   "outputs": [
    {
     "name": "stdout",
     "output_type": "stream",
     "text": [
      "<class 'pandas.core.frame.DataFrame'>\n",
      "RangeIndex: 36275 entries, 0 to 36274\n",
      "Data columns (total 19 columns):\n",
      " #   Column                                Non-Null Count  Dtype  \n",
      "---  ------                                --------------  -----  \n",
      " 0   Booking_ID                            36275 non-null  object \n",
      " 1   no_of_adults                          36275 non-null  int64  \n",
      " 2   no_of_children                        36275 non-null  int64  \n",
      " 3   no_of_weekend_nights                  36275 non-null  int64  \n",
      " 4   no_of_week_nights                     36275 non-null  int64  \n",
      " 5   type_of_meal_plan                     36275 non-null  object \n",
      " 6   required_car_parking_space            36275 non-null  int64  \n",
      " 7   room_type_reserved                    36275 non-null  object \n",
      " 8   lead_time                             36275 non-null  int64  \n",
      " 9   arrival_year                          36275 non-null  int64  \n",
      " 10  arrival_month                         36275 non-null  int64  \n",
      " 11  arrival_date                          36275 non-null  int64  \n",
      " 12  market_segment_type                   36275 non-null  object \n",
      " 13  repeated_guest                        36275 non-null  int64  \n",
      " 14  no_of_previous_cancellations          36275 non-null  int64  \n",
      " 15  no_of_previous_bookings_not_canceled  36275 non-null  int64  \n",
      " 16  avg_price_per_room                    36275 non-null  float64\n",
      " 17  no_of_special_requests                36275 non-null  int64  \n",
      " 18  booking_status                        36275 non-null  object \n",
      "dtypes: float64(1), int64(13), object(5)\n",
      "memory usage: 5.3+ MB\n"
     ]
    }
   ],
   "source": [
    "df.info()"
   ]
  },
  {
   "cell_type": "code",
   "execution_count": 8,
   "id": "2fc08456",
   "metadata": {},
   "outputs": [
    {
     "data": {
      "text/plain": [
       "Booking_ID                              0\n",
       "no_of_adults                            0\n",
       "no_of_children                          0\n",
       "no_of_weekend_nights                    0\n",
       "no_of_week_nights                       0\n",
       "type_of_meal_plan                       0\n",
       "required_car_parking_space              0\n",
       "room_type_reserved                      0\n",
       "lead_time                               0\n",
       "arrival_year                            0\n",
       "arrival_month                           0\n",
       "arrival_date                            0\n",
       "market_segment_type                     0\n",
       "repeated_guest                          0\n",
       "no_of_previous_cancellations            0\n",
       "no_of_previous_bookings_not_canceled    0\n",
       "avg_price_per_room                      0\n",
       "no_of_special_requests                  0\n",
       "booking_status                          0\n",
       "dtype: int64"
      ]
     },
     "execution_count": 8,
     "metadata": {},
     "output_type": "execute_result"
    }
   ],
   "source": [
    "df.isnull().sum()"
   ]
  },
  {
   "cell_type": "markdown",
   "id": "58fe0af1",
   "metadata": {},
   "source": [
    "# EDA"
   ]
  },
  {
   "cell_type": "code",
   "execution_count": 9,
   "id": "7d0926a3",
   "metadata": {},
   "outputs": [
    {
     "data": {
      "text/html": [
       "<div>\n",
       "<style scoped>\n",
       "    .dataframe tbody tr th:only-of-type {\n",
       "        vertical-align: middle;\n",
       "    }\n",
       "\n",
       "    .dataframe tbody tr th {\n",
       "        vertical-align: top;\n",
       "    }\n",
       "\n",
       "    .dataframe thead th {\n",
       "        text-align: right;\n",
       "    }\n",
       "</style>\n",
       "<table border=\"1\" class=\"dataframe\">\n",
       "  <thead>\n",
       "    <tr style=\"text-align: right;\">\n",
       "      <th></th>\n",
       "      <th>Booking_ID</th>\n",
       "      <th>no_of_adults</th>\n",
       "      <th>no_of_children</th>\n",
       "      <th>no_of_weekend_nights</th>\n",
       "      <th>no_of_week_nights</th>\n",
       "      <th>type_of_meal_plan</th>\n",
       "      <th>required_car_parking_space</th>\n",
       "      <th>room_type_reserved</th>\n",
       "      <th>lead_time</th>\n",
       "      <th>arrival_year</th>\n",
       "      <th>arrival_month</th>\n",
       "      <th>arrival_date</th>\n",
       "      <th>market_segment_type</th>\n",
       "      <th>repeated_guest</th>\n",
       "      <th>no_of_previous_cancellations</th>\n",
       "      <th>no_of_previous_bookings_not_canceled</th>\n",
       "      <th>avg_price_per_room</th>\n",
       "      <th>no_of_special_requests</th>\n",
       "      <th>booking_status</th>\n",
       "    </tr>\n",
       "  </thead>\n",
       "  <tbody>\n",
       "  </tbody>\n",
       "</table>\n",
       "</div>"
      ],
      "text/plain": [
       "Empty DataFrame\n",
       "Columns: [Booking_ID, no_of_adults, no_of_children, no_of_weekend_nights, no_of_week_nights, type_of_meal_plan, required_car_parking_space, room_type_reserved, lead_time, arrival_year, arrival_month, arrival_date, market_segment_type, repeated_guest, no_of_previous_cancellations, no_of_previous_bookings_not_canceled, avg_price_per_room, no_of_special_requests, booking_status]\n",
       "Index: []"
      ]
     },
     "execution_count": 9,
     "metadata": {},
     "output_type": "execute_result"
    }
   ],
   "source": [
    "df[df.duplicated()]"
   ]
  },
  {
   "cell_type": "markdown",
   "id": "5a294572",
   "metadata": {},
   "source": [
    "### There are no duplicate values."
   ]
  },
  {
   "cell_type": "markdown",
   "id": "873ddd85",
   "metadata": {},
   "source": [
    "### There are no null values either. So we can go ahead with feature engineering"
   ]
  },
  {
   "cell_type": "code",
   "execution_count": 10,
   "id": "1d868247",
   "metadata": {},
   "outputs": [
    {
     "name": "stdout",
     "output_type": "stream",
     "text": [
      "Booking_ID --> 36275\n",
      "['INN00001' 'INN00002' 'INN00003' ... 'INN36273' 'INN36274' 'INN36275']\n",
      "no_of_adults --> 5\n",
      "[2 1 3 0 4]\n",
      "no_of_children --> 6\n",
      "[ 0  2  1  3 10  9]\n",
      "no_of_weekend_nights --> 8\n",
      "[1 2 0 4 3 6 5 7]\n",
      "no_of_week_nights --> 18\n",
      "[ 2  3  1  4  5  0 10  6 11  7 15  9 13  8 14 12 17 16]\n",
      "type_of_meal_plan --> 4\n",
      "['Meal Plan 1' 'Not Selected' 'Meal Plan 2' 'Meal Plan 3']\n",
      "required_car_parking_space --> 2\n",
      "[0 1]\n",
      "room_type_reserved --> 7\n",
      "['Room_Type 1' 'Room_Type 4' 'Room_Type 2' 'Room_Type 6' 'Room_Type 5'\n",
      " 'Room_Type 7' 'Room_Type 3']\n",
      "lead_time --> 352\n",
      "[224   5   1 211  48 346  34  83 121  44   0  35  30  95  47 256  99  12\n",
      " 122   2  37 130  60  56   3 107  72  23 289 247 186  64  96  41  55 146\n",
      "  32  57   7 124 169   6  51  13 100 139 117  39  86  19 192 179  26  74\n",
      " 143 177  18 267 155  46 128  20  40 196 188  17 110  68  73  92 171 134\n",
      " 320 118 189  16  24   8  10 182 116 123 105 443 317 286 148  14  85  25\n",
      "  28  80  11 162  82  27 245 266 112  88  69 273   4  97  31  62 197 280\n",
      " 185 160 104  22 292 109 126 303  81  54  15 161 147  87 127 418 156  58\n",
      " 433 111 195 119  59  78 335 103  70  76 144  49  77  36  79  21  33 164\n",
      " 152  43 102  71 209  93  53 302 239  45 167 113  84   9 166 174  61 151\n",
      "  52  67 282  38 175  89 133  65  66  50 159 386 115 237 125  91  29 221\n",
      " 213 198  75 180 236 120 230  63 136 309 157 268 217  94 305  98  42 154\n",
      " 330 137 184 232 304 114 257 265 191 101 259 149 170 271 207 108 210 222\n",
      " 296 194 145 153 275 158 301 349 200 315 181 263 176 141 270 150 359 244\n",
      " 219 142 138 276 178 163 377 290 216 226 258 254 193 131 208 215 190 381\n",
      " 231 248 106 308 140 173 168 172  90 249 205 129 212 135 220 277 253 132\n",
      " 183 255 223 336 288 229 319 199 203 228 246 235 294 281 202 361 287 291\n",
      " 313 206 269 279 261 214 274 250 187 240 241 323 322 227 225 233 338 283\n",
      " 327 204 352 165 251 299 314 285 238 328 278 332 243 201 307 272 252 242\n",
      " 284 297 324 260 262 326 295 218 234 353 300 355 306 298 331 341 318 333\n",
      " 372 311 310 345 264 325 293 348 350 351]\n",
      "arrival_year --> 2\n",
      "[2017 2018]\n",
      "arrival_month --> 12\n",
      "[10 11  2  5  4  9 12  7  6  8  3  1]\n",
      "arrival_date --> 31\n",
      "[ 2  6 28 20 11 13 15 26 18 30  5 10  4 25 22 21 19 17  7  9 27  1 29 16\n",
      "  3 24 14 31 23  8 12]\n",
      "market_segment_type --> 5\n",
      "['Offline' 'Online' 'Corporate' 'Aviation' 'Complementary']\n",
      "repeated_guest --> 2\n",
      "[0 1]\n",
      "no_of_previous_cancellations --> 9\n",
      "[ 0  3  1  2 11  4  5 13  6]\n",
      "no_of_previous_bookings_not_canceled --> 59\n",
      "[ 0  5  1  3  4 12 19  2 15 17  7 20 16 50 13  6 14 34 18  8 10 23 11 49\n",
      " 47 53  9 33 22 24 52 21 48 28 39 25 31 38 26 51 42 37 35 56 44 27 32 55\n",
      " 45 30 57 46 54 43 58 41 29 40 36]\n",
      "avg_price_per_room --> 3930\n",
      "[ 65.   106.68  60.   ... 118.43 137.25 167.8 ]\n",
      "no_of_special_requests --> 6\n",
      "[0 1 3 2 4 5]\n",
      "booking_status --> 2\n",
      "['Not_Canceled' 'Canceled']\n"
     ]
    }
   ],
   "source": [
    "for i in df.columns:\n",
    "    print(i,'-->',df[i].nunique())\n",
    "    print(df[i].unique())"
   ]
  },
  {
   "cell_type": "code",
   "execution_count": 11,
   "id": "28f1acc7",
   "metadata": {},
   "outputs": [
    {
     "data": {
      "text/html": [
       "<div>\n",
       "<style scoped>\n",
       "    .dataframe tbody tr th:only-of-type {\n",
       "        vertical-align: middle;\n",
       "    }\n",
       "\n",
       "    .dataframe tbody tr th {\n",
       "        vertical-align: top;\n",
       "    }\n",
       "\n",
       "    .dataframe thead th {\n",
       "        text-align: right;\n",
       "    }\n",
       "</style>\n",
       "<table border=\"1\" class=\"dataframe\">\n",
       "  <thead>\n",
       "    <tr style=\"text-align: right;\">\n",
       "      <th></th>\n",
       "      <th>Booking_ID</th>\n",
       "      <th>no_of_adults</th>\n",
       "      <th>no_of_children</th>\n",
       "      <th>no_of_weekend_nights</th>\n",
       "      <th>no_of_week_nights</th>\n",
       "      <th>type_of_meal_plan</th>\n",
       "      <th>required_car_parking_space</th>\n",
       "      <th>room_type_reserved</th>\n",
       "      <th>lead_time</th>\n",
       "      <th>arrival_year</th>\n",
       "      <th>arrival_month</th>\n",
       "      <th>arrival_date</th>\n",
       "      <th>market_segment_type</th>\n",
       "      <th>repeated_guest</th>\n",
       "      <th>no_of_previous_cancellations</th>\n",
       "      <th>no_of_previous_bookings_not_canceled</th>\n",
       "      <th>avg_price_per_room</th>\n",
       "      <th>no_of_special_requests</th>\n",
       "      <th>booking_status</th>\n",
       "    </tr>\n",
       "  </thead>\n",
       "  <tbody>\n",
       "  </tbody>\n",
       "</table>\n",
       "</div>"
      ],
      "text/plain": [
       "Empty DataFrame\n",
       "Columns: [Booking_ID, no_of_adults, no_of_children, no_of_weekend_nights, no_of_week_nights, type_of_meal_plan, required_car_parking_space, room_type_reserved, lead_time, arrival_year, arrival_month, arrival_date, market_segment_type, repeated_guest, no_of_previous_cancellations, no_of_previous_bookings_not_canceled, avg_price_per_room, no_of_special_requests, booking_status]\n",
       "Index: []"
      ]
     },
     "execution_count": 11,
     "metadata": {},
     "output_type": "execute_result"
    }
   ],
   "source": [
    "df[(df['no_of_adults']==0) & (df['no_of_children']==0)]"
   ]
  },
  {
   "cell_type": "markdown",
   "id": "b7668839",
   "metadata": {},
   "source": [
    "### So there are no columns where both no of adults and no of children are zero. If there was an entry like that we will have to drop it."
   ]
  },
  {
   "cell_type": "code",
   "execution_count": 12,
   "id": "5f607300",
   "metadata": {},
   "outputs": [
    {
     "data": {
      "text/html": [
       "<div>\n",
       "<style scoped>\n",
       "    .dataframe tbody tr th:only-of-type {\n",
       "        vertical-align: middle;\n",
       "    }\n",
       "\n",
       "    .dataframe tbody tr th {\n",
       "        vertical-align: top;\n",
       "    }\n",
       "\n",
       "    .dataframe thead th {\n",
       "        text-align: right;\n",
       "    }\n",
       "</style>\n",
       "<table border=\"1\" class=\"dataframe\">\n",
       "  <thead>\n",
       "    <tr style=\"text-align: right;\">\n",
       "      <th></th>\n",
       "      <th>Booking_ID</th>\n",
       "      <th>no_of_adults</th>\n",
       "      <th>no_of_children</th>\n",
       "      <th>no_of_weekend_nights</th>\n",
       "      <th>no_of_week_nights</th>\n",
       "      <th>type_of_meal_plan</th>\n",
       "      <th>required_car_parking_space</th>\n",
       "      <th>room_type_reserved</th>\n",
       "      <th>lead_time</th>\n",
       "      <th>arrival_year</th>\n",
       "      <th>arrival_month</th>\n",
       "      <th>arrival_date</th>\n",
       "      <th>market_segment_type</th>\n",
       "      <th>repeated_guest</th>\n",
       "      <th>no_of_previous_cancellations</th>\n",
       "      <th>no_of_previous_bookings_not_canceled</th>\n",
       "      <th>avg_price_per_room</th>\n",
       "      <th>no_of_special_requests</th>\n",
       "      <th>booking_status</th>\n",
       "    </tr>\n",
       "  </thead>\n",
       "  <tbody>\n",
       "    <tr>\n",
       "      <th>32</th>\n",
       "      <td>INN00033</td>\n",
       "      <td>0</td>\n",
       "      <td>2</td>\n",
       "      <td>0</td>\n",
       "      <td>3</td>\n",
       "      <td>Meal Plan 1</td>\n",
       "      <td>0</td>\n",
       "      <td>Room_Type 2</td>\n",
       "      <td>56</td>\n",
       "      <td>2018</td>\n",
       "      <td>12</td>\n",
       "      <td>7</td>\n",
       "      <td>Online</td>\n",
       "      <td>0</td>\n",
       "      <td>0</td>\n",
       "      <td>0</td>\n",
       "      <td>82.44</td>\n",
       "      <td>1</td>\n",
       "      <td>Not_Canceled</td>\n",
       "    </tr>\n",
       "    <tr>\n",
       "      <th>287</th>\n",
       "      <td>INN00288</td>\n",
       "      <td>0</td>\n",
       "      <td>2</td>\n",
       "      <td>2</td>\n",
       "      <td>2</td>\n",
       "      <td>Meal Plan 1</td>\n",
       "      <td>0</td>\n",
       "      <td>Room_Type 1</td>\n",
       "      <td>68</td>\n",
       "      <td>2018</td>\n",
       "      <td>4</td>\n",
       "      <td>24</td>\n",
       "      <td>Online</td>\n",
       "      <td>0</td>\n",
       "      <td>0</td>\n",
       "      <td>0</td>\n",
       "      <td>108.38</td>\n",
       "      <td>1</td>\n",
       "      <td>Canceled</td>\n",
       "    </tr>\n",
       "    <tr>\n",
       "      <th>653</th>\n",
       "      <td>INN00654</td>\n",
       "      <td>0</td>\n",
       "      <td>2</td>\n",
       "      <td>1</td>\n",
       "      <td>2</td>\n",
       "      <td>Meal Plan 1</td>\n",
       "      <td>0</td>\n",
       "      <td>Room_Type 2</td>\n",
       "      <td>78</td>\n",
       "      <td>2018</td>\n",
       "      <td>8</td>\n",
       "      <td>19</td>\n",
       "      <td>Online</td>\n",
       "      <td>0</td>\n",
       "      <td>0</td>\n",
       "      <td>0</td>\n",
       "      <td>115.68</td>\n",
       "      <td>1</td>\n",
       "      <td>Not_Canceled</td>\n",
       "    </tr>\n",
       "    <tr>\n",
       "      <th>937</th>\n",
       "      <td>INN00938</td>\n",
       "      <td>0</td>\n",
       "      <td>2</td>\n",
       "      <td>0</td>\n",
       "      <td>3</td>\n",
       "      <td>Meal Plan 1</td>\n",
       "      <td>0</td>\n",
       "      <td>Room_Type 2</td>\n",
       "      <td>40</td>\n",
       "      <td>2018</td>\n",
       "      <td>1</td>\n",
       "      <td>14</td>\n",
       "      <td>Online</td>\n",
       "      <td>0</td>\n",
       "      <td>0</td>\n",
       "      <td>0</td>\n",
       "      <td>6.67</td>\n",
       "      <td>1</td>\n",
       "      <td>Not_Canceled</td>\n",
       "    </tr>\n",
       "    <tr>\n",
       "      <th>954</th>\n",
       "      <td>INN00955</td>\n",
       "      <td>0</td>\n",
       "      <td>2</td>\n",
       "      <td>1</td>\n",
       "      <td>1</td>\n",
       "      <td>Meal Plan 1</td>\n",
       "      <td>0</td>\n",
       "      <td>Room_Type 2</td>\n",
       "      <td>92</td>\n",
       "      <td>2018</td>\n",
       "      <td>10</td>\n",
       "      <td>29</td>\n",
       "      <td>Online</td>\n",
       "      <td>0</td>\n",
       "      <td>0</td>\n",
       "      <td>0</td>\n",
       "      <td>81.50</td>\n",
       "      <td>2</td>\n",
       "      <td>Not_Canceled</td>\n",
       "    </tr>\n",
       "    <tr>\n",
       "      <th>...</th>\n",
       "      <td>...</td>\n",
       "      <td>...</td>\n",
       "      <td>...</td>\n",
       "      <td>...</td>\n",
       "      <td>...</td>\n",
       "      <td>...</td>\n",
       "      <td>...</td>\n",
       "      <td>...</td>\n",
       "      <td>...</td>\n",
       "      <td>...</td>\n",
       "      <td>...</td>\n",
       "      <td>...</td>\n",
       "      <td>...</td>\n",
       "      <td>...</td>\n",
       "      <td>...</td>\n",
       "      <td>...</td>\n",
       "      <td>...</td>\n",
       "      <td>...</td>\n",
       "      <td>...</td>\n",
       "    </tr>\n",
       "    <tr>\n",
       "      <th>34720</th>\n",
       "      <td>INN34721</td>\n",
       "      <td>0</td>\n",
       "      <td>2</td>\n",
       "      <td>0</td>\n",
       "      <td>3</td>\n",
       "      <td>Meal Plan 1</td>\n",
       "      <td>0</td>\n",
       "      <td>Room_Type 2</td>\n",
       "      <td>76</td>\n",
       "      <td>2018</td>\n",
       "      <td>9</td>\n",
       "      <td>21</td>\n",
       "      <td>Online</td>\n",
       "      <td>0</td>\n",
       "      <td>0</td>\n",
       "      <td>0</td>\n",
       "      <td>127.38</td>\n",
       "      <td>3</td>\n",
       "      <td>Not_Canceled</td>\n",
       "    </tr>\n",
       "    <tr>\n",
       "      <th>34730</th>\n",
       "      <td>INN34731</td>\n",
       "      <td>0</td>\n",
       "      <td>2</td>\n",
       "      <td>1</td>\n",
       "      <td>1</td>\n",
       "      <td>Meal Plan 1</td>\n",
       "      <td>0</td>\n",
       "      <td>Room_Type 2</td>\n",
       "      <td>178</td>\n",
       "      <td>2018</td>\n",
       "      <td>8</td>\n",
       "      <td>27</td>\n",
       "      <td>Online</td>\n",
       "      <td>0</td>\n",
       "      <td>0</td>\n",
       "      <td>0</td>\n",
       "      <td>88.77</td>\n",
       "      <td>0</td>\n",
       "      <td>Canceled</td>\n",
       "    </tr>\n",
       "    <tr>\n",
       "      <th>34890</th>\n",
       "      <td>INN34891</td>\n",
       "      <td>0</td>\n",
       "      <td>2</td>\n",
       "      <td>2</td>\n",
       "      <td>2</td>\n",
       "      <td>Meal Plan 1</td>\n",
       "      <td>0</td>\n",
       "      <td>Room_Type 2</td>\n",
       "      <td>31</td>\n",
       "      <td>2018</td>\n",
       "      <td>9</td>\n",
       "      <td>16</td>\n",
       "      <td>Online</td>\n",
       "      <td>0</td>\n",
       "      <td>0</td>\n",
       "      <td>0</td>\n",
       "      <td>124.25</td>\n",
       "      <td>2</td>\n",
       "      <td>Not_Canceled</td>\n",
       "    </tr>\n",
       "    <tr>\n",
       "      <th>35691</th>\n",
       "      <td>INN35692</td>\n",
       "      <td>0</td>\n",
       "      <td>2</td>\n",
       "      <td>2</td>\n",
       "      <td>1</td>\n",
       "      <td>Meal Plan 1</td>\n",
       "      <td>0</td>\n",
       "      <td>Room_Type 2</td>\n",
       "      <td>75</td>\n",
       "      <td>2018</td>\n",
       "      <td>3</td>\n",
       "      <td>19</td>\n",
       "      <td>Online</td>\n",
       "      <td>0</td>\n",
       "      <td>0</td>\n",
       "      <td>0</td>\n",
       "      <td>78.00</td>\n",
       "      <td>0</td>\n",
       "      <td>Canceled</td>\n",
       "    </tr>\n",
       "    <tr>\n",
       "      <th>35797</th>\n",
       "      <td>INN35798</td>\n",
       "      <td>0</td>\n",
       "      <td>2</td>\n",
       "      <td>0</td>\n",
       "      <td>2</td>\n",
       "      <td>Meal Plan 1</td>\n",
       "      <td>0</td>\n",
       "      <td>Room_Type 2</td>\n",
       "      <td>120</td>\n",
       "      <td>2018</td>\n",
       "      <td>6</td>\n",
       "      <td>30</td>\n",
       "      <td>Online</td>\n",
       "      <td>0</td>\n",
       "      <td>0</td>\n",
       "      <td>0</td>\n",
       "      <td>97.55</td>\n",
       "      <td>0</td>\n",
       "      <td>Not_Canceled</td>\n",
       "    </tr>\n",
       "  </tbody>\n",
       "</table>\n",
       "<p>139 rows × 19 columns</p>\n",
       "</div>"
      ],
      "text/plain": [
       "      Booking_ID  no_of_adults  no_of_children  no_of_weekend_nights  \\\n",
       "32      INN00033             0               2                     0   \n",
       "287     INN00288             0               2                     2   \n",
       "653     INN00654             0               2                     1   \n",
       "937     INN00938             0               2                     0   \n",
       "954     INN00955             0               2                     1   \n",
       "...          ...           ...             ...                   ...   \n",
       "34720   INN34721             0               2                     0   \n",
       "34730   INN34731             0               2                     1   \n",
       "34890   INN34891             0               2                     2   \n",
       "35691   INN35692             0               2                     2   \n",
       "35797   INN35798             0               2                     0   \n",
       "\n",
       "       no_of_week_nights type_of_meal_plan  required_car_parking_space  \\\n",
       "32                     3       Meal Plan 1                           0   \n",
       "287                    2       Meal Plan 1                           0   \n",
       "653                    2       Meal Plan 1                           0   \n",
       "937                    3       Meal Plan 1                           0   \n",
       "954                    1       Meal Plan 1                           0   \n",
       "...                  ...               ...                         ...   \n",
       "34720                  3       Meal Plan 1                           0   \n",
       "34730                  1       Meal Plan 1                           0   \n",
       "34890                  2       Meal Plan 1                           0   \n",
       "35691                  1       Meal Plan 1                           0   \n",
       "35797                  2       Meal Plan 1                           0   \n",
       "\n",
       "      room_type_reserved  lead_time  arrival_year  arrival_month  \\\n",
       "32           Room_Type 2         56          2018             12   \n",
       "287          Room_Type 1         68          2018              4   \n",
       "653          Room_Type 2         78          2018              8   \n",
       "937          Room_Type 2         40          2018              1   \n",
       "954          Room_Type 2         92          2018             10   \n",
       "...                  ...        ...           ...            ...   \n",
       "34720        Room_Type 2         76          2018              9   \n",
       "34730        Room_Type 2        178          2018              8   \n",
       "34890        Room_Type 2         31          2018              9   \n",
       "35691        Room_Type 2         75          2018              3   \n",
       "35797        Room_Type 2        120          2018              6   \n",
       "\n",
       "       arrival_date market_segment_type  repeated_guest  \\\n",
       "32                7              Online               0   \n",
       "287              24              Online               0   \n",
       "653              19              Online               0   \n",
       "937              14              Online               0   \n",
       "954              29              Online               0   \n",
       "...             ...                 ...             ...   \n",
       "34720            21              Online               0   \n",
       "34730            27              Online               0   \n",
       "34890            16              Online               0   \n",
       "35691            19              Online               0   \n",
       "35797            30              Online               0   \n",
       "\n",
       "       no_of_previous_cancellations  no_of_previous_bookings_not_canceled  \\\n",
       "32                                0                                     0   \n",
       "287                               0                                     0   \n",
       "653                               0                                     0   \n",
       "937                               0                                     0   \n",
       "954                               0                                     0   \n",
       "...                             ...                                   ...   \n",
       "34720                             0                                     0   \n",
       "34730                             0                                     0   \n",
       "34890                             0                                     0   \n",
       "35691                             0                                     0   \n",
       "35797                             0                                     0   \n",
       "\n",
       "       avg_price_per_room  no_of_special_requests booking_status  \n",
       "32                  82.44                       1   Not_Canceled  \n",
       "287                108.38                       1       Canceled  \n",
       "653                115.68                       1   Not_Canceled  \n",
       "937                  6.67                       1   Not_Canceled  \n",
       "954                 81.50                       2   Not_Canceled  \n",
       "...                   ...                     ...            ...  \n",
       "34720              127.38                       3   Not_Canceled  \n",
       "34730               88.77                       0       Canceled  \n",
       "34890              124.25                       2   Not_Canceled  \n",
       "35691               78.00                       0       Canceled  \n",
       "35797               97.55                       0   Not_Canceled  \n",
       "\n",
       "[139 rows x 19 columns]"
      ]
     },
     "execution_count": 12,
     "metadata": {},
     "output_type": "execute_result"
    }
   ],
   "source": [
    "df[(df['no_of_adults']==0)]"
   ]
  },
  {
   "cell_type": "markdown",
   "id": "4cf8bc95",
   "metadata": {},
   "source": [
    "### We can see that there are records where no of adults=0 and no of children are having values of 1,2etc. But this cannot be possible since childrens won't be allowed to stay without parents"
   ]
  },
  {
   "cell_type": "markdown",
   "id": "a5e15f8d",
   "metadata": {},
   "source": [
    "### So I'm going to swap the columns of adults and children where the number of adults is 0, I will be swapping them with the corresponding values of number of children column since I believe there must be an error while entering the values by the respective person"
   ]
  },
  {
   "cell_type": "code",
   "execution_count": 13,
   "id": "5c144a5b",
   "metadata": {},
   "outputs": [],
   "source": [
    "#defining a condition\n",
    "condition = df['no_of_adults'] ==0\n",
    "\n",
    "#We create a temporary variable temp to hold the values of column 'no_of_adults' where the condition is True.\n",
    "#Next, we swap the values of column 'no_of_adults' and column 'no_of_children' where the condition is True. \n",
    "#Finally, we assign the values from temp back to column 'no_of_children'.\n",
    "\n",
    "temp = df.loc[condition, 'no_of_adults'].copy()\n",
    "df.loc[condition, 'no_of_adults'] = df.loc[condition, 'no_of_children']\n",
    "df.loc[condition, 'no_of_children'] = temp"
   ]
  },
  {
   "cell_type": "code",
   "execution_count": 14,
   "id": "c048c415",
   "metadata": {},
   "outputs": [
    {
     "data": {
      "text/html": [
       "<div>\n",
       "<style scoped>\n",
       "    .dataframe tbody tr th:only-of-type {\n",
       "        vertical-align: middle;\n",
       "    }\n",
       "\n",
       "    .dataframe tbody tr th {\n",
       "        vertical-align: top;\n",
       "    }\n",
       "\n",
       "    .dataframe thead th {\n",
       "        text-align: right;\n",
       "    }\n",
       "</style>\n",
       "<table border=\"1\" class=\"dataframe\">\n",
       "  <thead>\n",
       "    <tr style=\"text-align: right;\">\n",
       "      <th></th>\n",
       "      <th>Booking_ID</th>\n",
       "      <th>no_of_adults</th>\n",
       "      <th>no_of_children</th>\n",
       "      <th>no_of_weekend_nights</th>\n",
       "      <th>no_of_week_nights</th>\n",
       "      <th>type_of_meal_plan</th>\n",
       "      <th>required_car_parking_space</th>\n",
       "      <th>room_type_reserved</th>\n",
       "      <th>lead_time</th>\n",
       "      <th>arrival_year</th>\n",
       "      <th>arrival_month</th>\n",
       "      <th>arrival_date</th>\n",
       "      <th>market_segment_type</th>\n",
       "      <th>repeated_guest</th>\n",
       "      <th>no_of_previous_cancellations</th>\n",
       "      <th>no_of_previous_bookings_not_canceled</th>\n",
       "      <th>avg_price_per_room</th>\n",
       "      <th>no_of_special_requests</th>\n",
       "      <th>booking_status</th>\n",
       "    </tr>\n",
       "  </thead>\n",
       "  <tbody>\n",
       "  </tbody>\n",
       "</table>\n",
       "</div>"
      ],
      "text/plain": [
       "Empty DataFrame\n",
       "Columns: [Booking_ID, no_of_adults, no_of_children, no_of_weekend_nights, no_of_week_nights, type_of_meal_plan, required_car_parking_space, room_type_reserved, lead_time, arrival_year, arrival_month, arrival_date, market_segment_type, repeated_guest, no_of_previous_cancellations, no_of_previous_bookings_not_canceled, avg_price_per_room, no_of_special_requests, booking_status]\n",
       "Index: []"
      ]
     },
     "execution_count": 14,
     "metadata": {},
     "output_type": "execute_result"
    }
   ],
   "source": [
    "df[(df['no_of_adults']==0)]"
   ]
  },
  {
   "cell_type": "markdown",
   "id": "bc04ff07",
   "metadata": {},
   "source": [
    "### We won't be using Unique ID column also hence dropping it"
   ]
  },
  {
   "cell_type": "code",
   "execution_count": 15,
   "id": "2b5232ba",
   "metadata": {},
   "outputs": [],
   "source": [
    "df.drop('Booking_ID',axis=1,inplace=True)"
   ]
  },
  {
   "cell_type": "markdown",
   "id": "9fe83d0c",
   "metadata": {},
   "source": [
    "### Our EDA process is done now"
   ]
  },
  {
   "cell_type": "markdown",
   "id": "82c14237",
   "metadata": {},
   "source": [
    "# Data Visualization"
   ]
  },
  {
   "cell_type": "code",
   "execution_count": 16,
   "id": "28841db6",
   "metadata": {},
   "outputs": [
    {
     "ename": "ValueError",
     "evalue": "could not convert string to float: 'Not_Canceled'",
     "output_type": "error",
     "traceback": [
      "\u001b[1;31m---------------------------------------------------------------------------\u001b[0m",
      "\u001b[1;31mValueError\u001b[0m                                Traceback (most recent call last)",
      "Cell \u001b[1;32mIn[16], line 1\u001b[0m\n\u001b[1;32m----> 1\u001b[0m \u001b[43msns\u001b[49m\u001b[38;5;241;43m.\u001b[39;49m\u001b[43mcountplot\u001b[49m\u001b[43m(\u001b[49m\u001b[43mdf\u001b[49m\u001b[38;5;241;43m.\u001b[39;49m\u001b[43mbooking_status\u001b[49m\u001b[43m)\u001b[49m\n",
      "File \u001b[1;32m~\\anaconda3\\lib\\site-packages\\seaborn\\categorical.py:2943\u001b[0m, in \u001b[0;36mcountplot\u001b[1;34m(data, x, y, hue, order, hue_order, orient, color, palette, saturation, width, dodge, ax, **kwargs)\u001b[0m\n\u001b[0;32m   2940\u001b[0m \u001b[38;5;28;01melif\u001b[39;00m x \u001b[38;5;129;01mis\u001b[39;00m \u001b[38;5;129;01mnot\u001b[39;00m \u001b[38;5;28;01mNone\u001b[39;00m \u001b[38;5;129;01mand\u001b[39;00m y \u001b[38;5;129;01mis\u001b[39;00m \u001b[38;5;129;01mnot\u001b[39;00m \u001b[38;5;28;01mNone\u001b[39;00m:\n\u001b[0;32m   2941\u001b[0m     \u001b[38;5;28;01mraise\u001b[39;00m \u001b[38;5;167;01mValueError\u001b[39;00m(\u001b[38;5;124m\"\u001b[39m\u001b[38;5;124mCannot pass values for both `x` and `y`\u001b[39m\u001b[38;5;124m\"\u001b[39m)\n\u001b[1;32m-> 2943\u001b[0m plotter \u001b[38;5;241m=\u001b[39m \u001b[43m_CountPlotter\u001b[49m\u001b[43m(\u001b[49m\n\u001b[0;32m   2944\u001b[0m \u001b[43m    \u001b[49m\u001b[43mx\u001b[49m\u001b[43m,\u001b[49m\u001b[43m \u001b[49m\u001b[43my\u001b[49m\u001b[43m,\u001b[49m\u001b[43m \u001b[49m\u001b[43mhue\u001b[49m\u001b[43m,\u001b[49m\u001b[43m \u001b[49m\u001b[43mdata\u001b[49m\u001b[43m,\u001b[49m\u001b[43m \u001b[49m\u001b[43morder\u001b[49m\u001b[43m,\u001b[49m\u001b[43m \u001b[49m\u001b[43mhue_order\u001b[49m\u001b[43m,\u001b[49m\n\u001b[0;32m   2945\u001b[0m \u001b[43m    \u001b[49m\u001b[43mestimator\u001b[49m\u001b[43m,\u001b[49m\u001b[43m \u001b[49m\u001b[43merrorbar\u001b[49m\u001b[43m,\u001b[49m\u001b[43m \u001b[49m\u001b[43mn_boot\u001b[49m\u001b[43m,\u001b[49m\u001b[43m \u001b[49m\u001b[43munits\u001b[49m\u001b[43m,\u001b[49m\u001b[43m \u001b[49m\u001b[43mseed\u001b[49m\u001b[43m,\u001b[49m\n\u001b[0;32m   2946\u001b[0m \u001b[43m    \u001b[49m\u001b[43morient\u001b[49m\u001b[43m,\u001b[49m\u001b[43m \u001b[49m\u001b[43mcolor\u001b[49m\u001b[43m,\u001b[49m\u001b[43m \u001b[49m\u001b[43mpalette\u001b[49m\u001b[43m,\u001b[49m\u001b[43m \u001b[49m\u001b[43msaturation\u001b[49m\u001b[43m,\u001b[49m\n\u001b[0;32m   2947\u001b[0m \u001b[43m    \u001b[49m\u001b[43mwidth\u001b[49m\u001b[43m,\u001b[49m\u001b[43m \u001b[49m\u001b[43merrcolor\u001b[49m\u001b[43m,\u001b[49m\u001b[43m \u001b[49m\u001b[43merrwidth\u001b[49m\u001b[43m,\u001b[49m\u001b[43m \u001b[49m\u001b[43mcapsize\u001b[49m\u001b[43m,\u001b[49m\u001b[43m \u001b[49m\u001b[43mdodge\u001b[49m\n\u001b[0;32m   2948\u001b[0m \u001b[43m\u001b[49m\u001b[43m)\u001b[49m\n\u001b[0;32m   2950\u001b[0m plotter\u001b[38;5;241m.\u001b[39mvalue_label \u001b[38;5;241m=\u001b[39m \u001b[38;5;124m\"\u001b[39m\u001b[38;5;124mcount\u001b[39m\u001b[38;5;124m\"\u001b[39m\n\u001b[0;32m   2952\u001b[0m \u001b[38;5;28;01mif\u001b[39;00m ax \u001b[38;5;129;01mis\u001b[39;00m \u001b[38;5;28;01mNone\u001b[39;00m:\n",
      "File \u001b[1;32m~\\anaconda3\\lib\\site-packages\\seaborn\\categorical.py:1530\u001b[0m, in \u001b[0;36m_BarPlotter.__init__\u001b[1;34m(self, x, y, hue, data, order, hue_order, estimator, errorbar, n_boot, units, seed, orient, color, palette, saturation, width, errcolor, errwidth, capsize, dodge)\u001b[0m\n\u001b[0;32m   1525\u001b[0m \u001b[38;5;28;01mdef\u001b[39;00m \u001b[38;5;21m__init__\u001b[39m(\u001b[38;5;28mself\u001b[39m, x, y, hue, data, order, hue_order,\n\u001b[0;32m   1526\u001b[0m              estimator, errorbar, n_boot, units, seed,\n\u001b[0;32m   1527\u001b[0m              orient, color, palette, saturation, width,\n\u001b[0;32m   1528\u001b[0m              errcolor, errwidth, capsize, dodge):\n\u001b[0;32m   1529\u001b[0m     \u001b[38;5;124;03m\"\"\"Initialize the plotter.\"\"\"\u001b[39;00m\n\u001b[1;32m-> 1530\u001b[0m     \u001b[38;5;28;43mself\u001b[39;49m\u001b[38;5;241;43m.\u001b[39;49m\u001b[43mestablish_variables\u001b[49m\u001b[43m(\u001b[49m\u001b[43mx\u001b[49m\u001b[43m,\u001b[49m\u001b[43m \u001b[49m\u001b[43my\u001b[49m\u001b[43m,\u001b[49m\u001b[43m \u001b[49m\u001b[43mhue\u001b[49m\u001b[43m,\u001b[49m\u001b[43m \u001b[49m\u001b[43mdata\u001b[49m\u001b[43m,\u001b[49m\u001b[43m \u001b[49m\u001b[43morient\u001b[49m\u001b[43m,\u001b[49m\n\u001b[0;32m   1531\u001b[0m \u001b[43m                             \u001b[49m\u001b[43morder\u001b[49m\u001b[43m,\u001b[49m\u001b[43m \u001b[49m\u001b[43mhue_order\u001b[49m\u001b[43m,\u001b[49m\u001b[43m \u001b[49m\u001b[43munits\u001b[49m\u001b[43m)\u001b[49m\n\u001b[0;32m   1532\u001b[0m     \u001b[38;5;28mself\u001b[39m\u001b[38;5;241m.\u001b[39mestablish_colors(color, palette, saturation)\n\u001b[0;32m   1533\u001b[0m     \u001b[38;5;28mself\u001b[39m\u001b[38;5;241m.\u001b[39mestimate_statistic(estimator, errorbar, n_boot, seed)\n",
      "File \u001b[1;32m~\\anaconda3\\lib\\site-packages\\seaborn\\categorical.py:516\u001b[0m, in \u001b[0;36m_CategoricalPlotter.establish_variables\u001b[1;34m(self, x, y, hue, data, orient, order, hue_order, units)\u001b[0m\n\u001b[0;32m    513\u001b[0m     plot_data \u001b[38;5;241m=\u001b[39m data\n\u001b[0;32m    515\u001b[0m \u001b[38;5;66;03m# Convert to a list of arrays, the common representation\u001b[39;00m\n\u001b[1;32m--> 516\u001b[0m plot_data \u001b[38;5;241m=\u001b[39m [np\u001b[38;5;241m.\u001b[39masarray(d, \u001b[38;5;28mfloat\u001b[39m) \u001b[38;5;28;01mfor\u001b[39;00m d \u001b[38;5;129;01min\u001b[39;00m plot_data]\n\u001b[0;32m    518\u001b[0m \u001b[38;5;66;03m# The group names will just be numeric indices\u001b[39;00m\n\u001b[0;32m    519\u001b[0m group_names \u001b[38;5;241m=\u001b[39m \u001b[38;5;28mlist\u001b[39m(\u001b[38;5;28mrange\u001b[39m(\u001b[38;5;28mlen\u001b[39m(plot_data)))\n",
      "File \u001b[1;32m~\\anaconda3\\lib\\site-packages\\seaborn\\categorical.py:516\u001b[0m, in \u001b[0;36m<listcomp>\u001b[1;34m(.0)\u001b[0m\n\u001b[0;32m    513\u001b[0m     plot_data \u001b[38;5;241m=\u001b[39m data\n\u001b[0;32m    515\u001b[0m \u001b[38;5;66;03m# Convert to a list of arrays, the common representation\u001b[39;00m\n\u001b[1;32m--> 516\u001b[0m plot_data \u001b[38;5;241m=\u001b[39m [\u001b[43mnp\u001b[49m\u001b[38;5;241;43m.\u001b[39;49m\u001b[43masarray\u001b[49m\u001b[43m(\u001b[49m\u001b[43md\u001b[49m\u001b[43m,\u001b[49m\u001b[43m \u001b[49m\u001b[38;5;28;43mfloat\u001b[39;49m\u001b[43m)\u001b[49m \u001b[38;5;28;01mfor\u001b[39;00m d \u001b[38;5;129;01min\u001b[39;00m plot_data]\n\u001b[0;32m    518\u001b[0m \u001b[38;5;66;03m# The group names will just be numeric indices\u001b[39;00m\n\u001b[0;32m    519\u001b[0m group_names \u001b[38;5;241m=\u001b[39m \u001b[38;5;28mlist\u001b[39m(\u001b[38;5;28mrange\u001b[39m(\u001b[38;5;28mlen\u001b[39m(plot_data)))\n",
      "File \u001b[1;32m~\\anaconda3\\lib\\site-packages\\pandas\\core\\series.py:893\u001b[0m, in \u001b[0;36mSeries.__array__\u001b[1;34m(self, dtype)\u001b[0m\n\u001b[0;32m    846\u001b[0m \u001b[38;5;28;01mdef\u001b[39;00m \u001b[38;5;21m__array__\u001b[39m(\u001b[38;5;28mself\u001b[39m, dtype: npt\u001b[38;5;241m.\u001b[39mDTypeLike \u001b[38;5;241m|\u001b[39m \u001b[38;5;28;01mNone\u001b[39;00m \u001b[38;5;241m=\u001b[39m \u001b[38;5;28;01mNone\u001b[39;00m) \u001b[38;5;241m-\u001b[39m\u001b[38;5;241m>\u001b[39m np\u001b[38;5;241m.\u001b[39mndarray:\n\u001b[0;32m    847\u001b[0m     \u001b[38;5;124;03m\"\"\"\u001b[39;00m\n\u001b[0;32m    848\u001b[0m \u001b[38;5;124;03m    Return the values as a NumPy array.\u001b[39;00m\n\u001b[0;32m    849\u001b[0m \n\u001b[1;32m   (...)\u001b[0m\n\u001b[0;32m    891\u001b[0m \u001b[38;5;124;03m          dtype='datetime64[ns]')\u001b[39;00m\n\u001b[0;32m    892\u001b[0m \u001b[38;5;124;03m    \"\"\"\u001b[39;00m\n\u001b[1;32m--> 893\u001b[0m     \u001b[38;5;28;01mreturn\u001b[39;00m \u001b[43mnp\u001b[49m\u001b[38;5;241;43m.\u001b[39;49m\u001b[43masarray\u001b[49m\u001b[43m(\u001b[49m\u001b[38;5;28;43mself\u001b[39;49m\u001b[38;5;241;43m.\u001b[39;49m\u001b[43m_values\u001b[49m\u001b[43m,\u001b[49m\u001b[43m \u001b[49m\u001b[43mdtype\u001b[49m\u001b[43m)\u001b[49m\n",
      "\u001b[1;31mValueError\u001b[0m: could not convert string to float: 'Not_Canceled'"
     ]
    }
   ],
   "source": [
    "sns.countplot(df.booking_status)"
   ]
  },
  {
   "cell_type": "code",
   "execution_count": null,
   "id": "0be029e5",
   "metadata": {},
   "outputs": [],
   "source": [
    "df.booking_status.value_counts(normalize=True)"
   ]
  },
  {
   "cell_type": "markdown",
   "id": "2896b297",
   "metadata": {},
   "source": [
    "### Target variable has 67% Not Calceled values and 33% Canceled values."
   ]
  },
  {
   "cell_type": "code",
   "execution_count": null,
   "id": "49ed6b05",
   "metadata": {},
   "outputs": [],
   "source": [
    "sns.countplot(df.no_of_adults,hue=df.booking_status)"
   ]
  },
  {
   "cell_type": "code",
   "execution_count": null,
   "id": "97ca1f52",
   "metadata": {},
   "outputs": [],
   "source": [
    "df.groupby('no_of_adults')['booking_status'].value_counts(normalize=True)"
   ]
  },
  {
   "cell_type": "code",
   "execution_count": null,
   "id": "16373756",
   "metadata": {},
   "outputs": [],
   "source": [
    "sns.countplot(df.no_of_children,hue=df.booking_status)"
   ]
  },
  {
   "cell_type": "code",
   "execution_count": null,
   "id": "f227b460",
   "metadata": {},
   "outputs": [],
   "source": [
    "df.groupby('no_of_children')['booking_status'].value_counts(normalize=True)"
   ]
  },
  {
   "cell_type": "markdown",
   "id": "ae43cafa",
   "metadata": {},
   "source": [
    "### We can see that the hotel is mostly attracting young couples. So the hotel can create curated experiences for couples and can improve their customer experience since we can see that mostly couples with no kids cancel the most also. Also the hotel can look into the couples who cancelled and get their feedback on why they cancelled as the hotel might want to work on the shortcomings if it's related to pricing, experiences or even the rooms as this can help to drive up the profits "
   ]
  },
  {
   "cell_type": "code",
   "execution_count": null,
   "id": "eec6604c",
   "metadata": {},
   "outputs": [],
   "source": [
    "df.dtypes"
   ]
  },
  {
   "cell_type": "code",
   "execution_count": null,
   "id": "ef4eb0ac",
   "metadata": {
    "scrolled": false
   },
   "outputs": [],
   "source": [
    "cat_features = df[['no_of_weekend_nights','no_of_week_nights','type_of_meal_plan','required_car_parking_space','room_type_reserved','arrival_year','arrival_month','market_segment_type','repeated_guest','no_of_previous_cancellations','no_of_special_requests']]\n",
    "for i in cat_features.columns:\n",
    "        sns.countplot(cat_features[i],hue=df.booking_status)\n",
    "        plt.xticks(rotation = 90)\n",
    "        plt.show()"
   ]
  },
  {
   "cell_type": "markdown",
   "id": "8a5ceb4e",
   "metadata": {},
   "source": [
    "Inferences from the visualization:\n",
    "1. People come mostly for weekday stay than for weekend. So it'll be busy in the weekdays than in weekends.\n",
    "2. Type of meal plan 1 was most preferred by the customers. So the hotel can take feedbacks on the meal plan and work on improving customer satisfaction as it'll create better reputation for the hotel. Also the cancellation percentage was higher when they had selected meal plan 2.\n",
    "3. Most people doesn't require car parking space and of those who require car parking space, the cancellation rate is very low.\n",
    "4. Room Type 1 and Room Type 4 are mostly preferred with Room Type 1 being the highest.\n",
    "5. The peak season begins from july and there is steep increase in demand till october followed by a fall in demand in november and a small increase in december.\n",
    "6. We can see that in July the cancellation rate was very high. So the hotel might want to check into it. Also they must at all cost try to reduce the cancellation as much as possible during this peak season.\n",
    "7. The cancellation rates are really low in the month of Dec and Jan.\n",
    "8. People prefer booking online. But the cancellation rate of people booking online is higher than offline\n",
    "9. Also in corporate bookings there's least amount of cancellation.\n",
    "10. Since data in 2018 is more, the number of repeated guests is really small. But amoung the repeated guests the cancellation rate is really low.\n",
    "11. Number of people having no special requests are more but the cancellation rate of that category is huge. Whereas people who make special requests has very less chance to cancel their reservation.  \n"
   ]
  },
  {
   "cell_type": "code",
   "execution_count": 17,
   "id": "b055eeb2",
   "metadata": {},
   "outputs": [
    {
     "data": {
      "image/png": "[encoded data removed]",
      "text/plain": [
       "<Figure size 640x480 with 1 Axes>"
      ]
     },
     "metadata": {},
     "output_type": "display_data"
    }
   ],
   "source": [
    "sns.violinplot(x='booking_status', y='lead_time', data=df)\n",
    "plt.show()"
   ]
  },
  {
   "cell_type": "markdown",
   "id": "713da27a",
   "metadata": {},
   "source": [
    "### We can see that people with very less lead time tend to not cancel their reservations, whereas as the lead time increases chances of cancellation increases"
   ]
  },
  {
   "cell_type": "markdown",
   "id": "bbb24a1c",
   "metadata": {},
   "source": [
    "### Let me covert target variable to binary variables"
   ]
  },
  {
   "cell_type": "code",
   "execution_count": 18,
   "id": "f8ce43b2",
   "metadata": {},
   "outputs": [],
   "source": [
    "data = df.copy()"
   ]
  },
  {
   "cell_type": "code",
   "execution_count": 19,
   "id": "fce54de4",
   "metadata": {},
   "outputs": [
    {
     "data": {
      "text/html": [
       "<div>\n",
       "<style scoped>\n",
       "    .dataframe tbody tr th:only-of-type {\n",
       "        vertical-align: middle;\n",
       "    }\n",
       "\n",
       "    .dataframe tbody tr th {\n",
       "        vertical-align: top;\n",
       "    }\n",
       "\n",
       "    .dataframe thead th {\n",
       "        text-align: right;\n",
       "    }\n",
       "</style>\n",
       "<table border=\"1\" class=\"dataframe\">\n",
       "  <thead>\n",
       "    <tr style=\"text-align: right;\">\n",
       "      <th></th>\n",
       "      <th>no_of_adults</th>\n",
       "      <th>no_of_children</th>\n",
       "      <th>no_of_weekend_nights</th>\n",
       "      <th>no_of_week_nights</th>\n",
       "      <th>type_of_meal_plan</th>\n",
       "      <th>required_car_parking_space</th>\n",
       "      <th>room_type_reserved</th>\n",
       "      <th>lead_time</th>\n",
       "      <th>arrival_year</th>\n",
       "      <th>arrival_month</th>\n",
       "      <th>arrival_date</th>\n",
       "      <th>market_segment_type</th>\n",
       "      <th>repeated_guest</th>\n",
       "      <th>no_of_previous_cancellations</th>\n",
       "      <th>no_of_previous_bookings_not_canceled</th>\n",
       "      <th>avg_price_per_room</th>\n",
       "      <th>no_of_special_requests</th>\n",
       "      <th>booking_status</th>\n",
       "    </tr>\n",
       "  </thead>\n",
       "  <tbody>\n",
       "    <tr>\n",
       "      <th>0</th>\n",
       "      <td>2</td>\n",
       "      <td>0</td>\n",
       "      <td>1</td>\n",
       "      <td>2</td>\n",
       "      <td>Meal Plan 1</td>\n",
       "      <td>0</td>\n",
       "      <td>Room_Type 1</td>\n",
       "      <td>224</td>\n",
       "      <td>2017</td>\n",
       "      <td>10</td>\n",
       "      <td>2</td>\n",
       "      <td>Offline</td>\n",
       "      <td>0</td>\n",
       "      <td>0</td>\n",
       "      <td>0</td>\n",
       "      <td>65.00</td>\n",
       "      <td>0</td>\n",
       "      <td>Not_Canceled</td>\n",
       "    </tr>\n",
       "    <tr>\n",
       "      <th>1</th>\n",
       "      <td>2</td>\n",
       "      <td>0</td>\n",
       "      <td>2</td>\n",
       "      <td>3</td>\n",
       "      <td>Not Selected</td>\n",
       "      <td>0</td>\n",
       "      <td>Room_Type 1</td>\n",
       "      <td>5</td>\n",
       "      <td>2018</td>\n",
       "      <td>11</td>\n",
       "      <td>6</td>\n",
       "      <td>Online</td>\n",
       "      <td>0</td>\n",
       "      <td>0</td>\n",
       "      <td>0</td>\n",
       "      <td>106.68</td>\n",
       "      <td>1</td>\n",
       "      <td>Not_Canceled</td>\n",
       "    </tr>\n",
       "    <tr>\n",
       "      <th>2</th>\n",
       "      <td>1</td>\n",
       "      <td>0</td>\n",
       "      <td>2</td>\n",
       "      <td>1</td>\n",
       "      <td>Meal Plan 1</td>\n",
       "      <td>0</td>\n",
       "      <td>Room_Type 1</td>\n",
       "      <td>1</td>\n",
       "      <td>2018</td>\n",
       "      <td>2</td>\n",
       "      <td>28</td>\n",
       "      <td>Online</td>\n",
       "      <td>0</td>\n",
       "      <td>0</td>\n",
       "      <td>0</td>\n",
       "      <td>60.00</td>\n",
       "      <td>0</td>\n",
       "      <td>Canceled</td>\n",
       "    </tr>\n",
       "    <tr>\n",
       "      <th>3</th>\n",
       "      <td>2</td>\n",
       "      <td>0</td>\n",
       "      <td>0</td>\n",
       "      <td>2</td>\n",
       "      <td>Meal Plan 1</td>\n",
       "      <td>0</td>\n",
       "      <td>Room_Type 1</td>\n",
       "      <td>211</td>\n",
       "      <td>2018</td>\n",
       "      <td>5</td>\n",
       "      <td>20</td>\n",
       "      <td>Online</td>\n",
       "      <td>0</td>\n",
       "      <td>0</td>\n",
       "      <td>0</td>\n",
       "      <td>100.00</td>\n",
       "      <td>0</td>\n",
       "      <td>Canceled</td>\n",
       "    </tr>\n",
       "    <tr>\n",
       "      <th>4</th>\n",
       "      <td>2</td>\n",
       "      <td>0</td>\n",
       "      <td>1</td>\n",
       "      <td>1</td>\n",
       "      <td>Not Selected</td>\n",
       "      <td>0</td>\n",
       "      <td>Room_Type 1</td>\n",
       "      <td>48</td>\n",
       "      <td>2018</td>\n",
       "      <td>4</td>\n",
       "      <td>11</td>\n",
       "      <td>Online</td>\n",
       "      <td>0</td>\n",
       "      <td>0</td>\n",
       "      <td>0</td>\n",
       "      <td>94.50</td>\n",
       "      <td>0</td>\n",
       "      <td>Canceled</td>\n",
       "    </tr>\n",
       "  </tbody>\n",
       "</table>\n",
       "</div>"
      ],
      "text/plain": [
       "   no_of_adults  no_of_children  no_of_weekend_nights  no_of_week_nights  \\\n",
       "0             2               0                     1                  2   \n",
       "1             2               0                     2                  3   \n",
       "2             1               0                     2                  1   \n",
       "3             2               0                     0                  2   \n",
       "4             2               0                     1                  1   \n",
       "\n",
       "  type_of_meal_plan  required_car_parking_space room_type_reserved  lead_time  \\\n",
       "0       Meal Plan 1                           0        Room_Type 1        224   \n",
       "1      Not Selected                           0        Room_Type 1          5   \n",
       "2       Meal Plan 1                           0        Room_Type 1          1   \n",
       "3       Meal Plan 1                           0        Room_Type 1        211   \n",
       "4      Not Selected                           0        Room_Type 1         48   \n",
       "\n",
       "   arrival_year  arrival_month  arrival_date market_segment_type  \\\n",
       "0          2017             10             2             Offline   \n",
       "1          2018             11             6              Online   \n",
       "2          2018              2            28              Online   \n",
       "3          2018              5            20              Online   \n",
       "4          2018              4            11              Online   \n",
       "\n",
       "   repeated_guest  no_of_previous_cancellations  \\\n",
       "0               0                             0   \n",
       "1               0                             0   \n",
       "2               0                             0   \n",
       "3               0                             0   \n",
       "4               0                             0   \n",
       "\n",
       "   no_of_previous_bookings_not_canceled  avg_price_per_room  \\\n",
       "0                                     0               65.00   \n",
       "1                                     0              106.68   \n",
       "2                                     0               60.00   \n",
       "3                                     0              100.00   \n",
       "4                                     0               94.50   \n",
       "\n",
       "   no_of_special_requests booking_status  \n",
       "0                       0   Not_Canceled  \n",
       "1                       1   Not_Canceled  \n",
       "2                       0       Canceled  \n",
       "3                       0       Canceled  \n",
       "4                       0       Canceled  "
      ]
     },
     "execution_count": 19,
     "metadata": {},
     "output_type": "execute_result"
    }
   ],
   "source": [
    "data.head()"
   ]
  },
  {
   "cell_type": "code",
   "execution_count": 20,
   "id": "b10f7e00",
   "metadata": {},
   "outputs": [],
   "source": [
    "data['booking_status'] = data['booking_status'].replace({'Canceled':1,'Not_Canceled':0})"
   ]
  },
  {
   "cell_type": "markdown",
   "id": "98fe359d",
   "metadata": {},
   "source": [
    "### Applying OHE on independent features"
   ]
  },
  {
   "cell_type": "code",
   "execution_count": 21,
   "id": "e5538dd3",
   "metadata": {},
   "outputs": [],
   "source": [
    "data = pd.get_dummies(data,drop_first=True)"
   ]
  },
  {
   "cell_type": "code",
   "execution_count": 22,
   "id": "eadd857e",
   "metadata": {},
   "outputs": [],
   "source": [
    "pd.set_option('display.max_columns', None)"
   ]
  },
  {
   "cell_type": "code",
   "execution_count": 23,
   "id": "b2dadc36",
   "metadata": {},
   "outputs": [
    {
     "data": {
      "text/html": [
       "<div>\n",
       "<style scoped>\n",
       "    .dataframe tbody tr th:only-of-type {\n",
       "        vertical-align: middle;\n",
       "    }\n",
       "\n",
       "    .dataframe tbody tr th {\n",
       "        vertical-align: top;\n",
       "    }\n",
       "\n",
       "    .dataframe thead th {\n",
       "        text-align: right;\n",
       "    }\n",
       "</style>\n",
       "<table border=\"1\" class=\"dataframe\">\n",
       "  <thead>\n",
       "    <tr style=\"text-align: right;\">\n",
       "      <th></th>\n",
       "      <th>no_of_adults</th>\n",
       "      <th>no_of_children</th>\n",
       "      <th>no_of_weekend_nights</th>\n",
       "      <th>no_of_week_nights</th>\n",
       "      <th>required_car_parking_space</th>\n",
       "      <th>lead_time</th>\n",
       "      <th>arrival_year</th>\n",
       "      <th>arrival_month</th>\n",
       "      <th>arrival_date</th>\n",
       "      <th>repeated_guest</th>\n",
       "      <th>no_of_previous_cancellations</th>\n",
       "      <th>no_of_previous_bookings_not_canceled</th>\n",
       "      <th>avg_price_per_room</th>\n",
       "      <th>no_of_special_requests</th>\n",
       "      <th>booking_status</th>\n",
       "      <th>type_of_meal_plan_Meal Plan 2</th>\n",
       "      <th>type_of_meal_plan_Meal Plan 3</th>\n",
       "      <th>type_of_meal_plan_Not Selected</th>\n",
       "      <th>room_type_reserved_Room_Type 2</th>\n",
       "      <th>room_type_reserved_Room_Type 3</th>\n",
       "      <th>room_type_reserved_Room_Type 4</th>\n",
       "      <th>room_type_reserved_Room_Type 5</th>\n",
       "      <th>room_type_reserved_Room_Type 6</th>\n",
       "      <th>room_type_reserved_Room_Type 7</th>\n",
       "      <th>market_segment_type_Complementary</th>\n",
       "      <th>market_segment_type_Corporate</th>\n",
       "      <th>market_segment_type_Offline</th>\n",
       "      <th>market_segment_type_Online</th>\n",
       "    </tr>\n",
       "  </thead>\n",
       "  <tbody>\n",
       "    <tr>\n",
       "      <th>0</th>\n",
       "      <td>2</td>\n",
       "      <td>0</td>\n",
       "      <td>1</td>\n",
       "      <td>2</td>\n",
       "      <td>0</td>\n",
       "      <td>224</td>\n",
       "      <td>2017</td>\n",
       "      <td>10</td>\n",
       "      <td>2</td>\n",
       "      <td>0</td>\n",
       "      <td>0</td>\n",
       "      <td>0</td>\n",
       "      <td>65.00</td>\n",
       "      <td>0</td>\n",
       "      <td>0</td>\n",
       "      <td>0</td>\n",
       "      <td>0</td>\n",
       "      <td>0</td>\n",
       "      <td>0</td>\n",
       "      <td>0</td>\n",
       "      <td>0</td>\n",
       "      <td>0</td>\n",
       "      <td>0</td>\n",
       "      <td>0</td>\n",
       "      <td>0</td>\n",
       "      <td>0</td>\n",
       "      <td>1</td>\n",
       "      <td>0</td>\n",
       "    </tr>\n",
       "    <tr>\n",
       "      <th>1</th>\n",
       "      <td>2</td>\n",
       "      <td>0</td>\n",
       "      <td>2</td>\n",
       "      <td>3</td>\n",
       "      <td>0</td>\n",
       "      <td>5</td>\n",
       "      <td>2018</td>\n",
       "      <td>11</td>\n",
       "      <td>6</td>\n",
       "      <td>0</td>\n",
       "      <td>0</td>\n",
       "      <td>0</td>\n",
       "      <td>106.68</td>\n",
       "      <td>1</td>\n",
       "      <td>0</td>\n",
       "      <td>0</td>\n",
       "      <td>0</td>\n",
       "      <td>1</td>\n",
       "      <td>0</td>\n",
       "      <td>0</td>\n",
       "      <td>0</td>\n",
       "      <td>0</td>\n",
       "      <td>0</td>\n",
       "      <td>0</td>\n",
       "      <td>0</td>\n",
       "      <td>0</td>\n",
       "      <td>0</td>\n",
       "      <td>1</td>\n",
       "    </tr>\n",
       "    <tr>\n",
       "      <th>2</th>\n",
       "      <td>1</td>\n",
       "      <td>0</td>\n",
       "      <td>2</td>\n",
       "      <td>1</td>\n",
       "      <td>0</td>\n",
       "      <td>1</td>\n",
       "      <td>2018</td>\n",
       "      <td>2</td>\n",
       "      <td>28</td>\n",
       "      <td>0</td>\n",
       "      <td>0</td>\n",
       "      <td>0</td>\n",
       "      <td>60.00</td>\n",
       "      <td>0</td>\n",
       "      <td>1</td>\n",
       "      <td>0</td>\n",
       "      <td>0</td>\n",
       "      <td>0</td>\n",
       "      <td>0</td>\n",
       "      <td>0</td>\n",
       "      <td>0</td>\n",
       "      <td>0</td>\n",
       "      <td>0</td>\n",
       "      <td>0</td>\n",
       "      <td>0</td>\n",
       "      <td>0</td>\n",
       "      <td>0</td>\n",
       "      <td>1</td>\n",
       "    </tr>\n",
       "    <tr>\n",
       "      <th>3</th>\n",
       "      <td>2</td>\n",
       "      <td>0</td>\n",
       "      <td>0</td>\n",
       "      <td>2</td>\n",
       "      <td>0</td>\n",
       "      <td>211</td>\n",
       "      <td>2018</td>\n",
       "      <td>5</td>\n",
       "      <td>20</td>\n",
       "      <td>0</td>\n",
       "      <td>0</td>\n",
       "      <td>0</td>\n",
       "      <td>100.00</td>\n",
       "      <td>0</td>\n",
       "      <td>1</td>\n",
       "      <td>0</td>\n",
       "      <td>0</td>\n",
       "      <td>0</td>\n",
       "      <td>0</td>\n",
       "      <td>0</td>\n",
       "      <td>0</td>\n",
       "      <td>0</td>\n",
       "      <td>0</td>\n",
       "      <td>0</td>\n",
       "      <td>0</td>\n",
       "      <td>0</td>\n",
       "      <td>0</td>\n",
       "      <td>1</td>\n",
       "    </tr>\n",
       "    <tr>\n",
       "      <th>4</th>\n",
       "      <td>2</td>\n",
       "      <td>0</td>\n",
       "      <td>1</td>\n",
       "      <td>1</td>\n",
       "      <td>0</td>\n",
       "      <td>48</td>\n",
       "      <td>2018</td>\n",
       "      <td>4</td>\n",
       "      <td>11</td>\n",
       "      <td>0</td>\n",
       "      <td>0</td>\n",
       "      <td>0</td>\n",
       "      <td>94.50</td>\n",
       "      <td>0</td>\n",
       "      <td>1</td>\n",
       "      <td>0</td>\n",
       "      <td>0</td>\n",
       "      <td>1</td>\n",
       "      <td>0</td>\n",
       "      <td>0</td>\n",
       "      <td>0</td>\n",
       "      <td>0</td>\n",
       "      <td>0</td>\n",
       "      <td>0</td>\n",
       "      <td>0</td>\n",
       "      <td>0</td>\n",
       "      <td>0</td>\n",
       "      <td>1</td>\n",
       "    </tr>\n",
       "  </tbody>\n",
       "</table>\n",
       "</div>"
      ],
      "text/plain": [
       "   no_of_adults  no_of_children  no_of_weekend_nights  no_of_week_nights  \\\n",
       "0             2               0                     1                  2   \n",
       "1             2               0                     2                  3   \n",
       "2             1               0                     2                  1   \n",
       "3             2               0                     0                  2   \n",
       "4             2               0                     1                  1   \n",
       "\n",
       "   required_car_parking_space  lead_time  arrival_year  arrival_month  \\\n",
       "0                           0        224          2017             10   \n",
       "1                           0          5          2018             11   \n",
       "2                           0          1          2018              2   \n",
       "3                           0        211          2018              5   \n",
       "4                           0         48          2018              4   \n",
       "\n",
       "   arrival_date  repeated_guest  no_of_previous_cancellations  \\\n",
       "0             2               0                             0   \n",
       "1             6               0                             0   \n",
       "2            28               0                             0   \n",
       "3            20               0                             0   \n",
       "4            11               0                             0   \n",
       "\n",
       "   no_of_previous_bookings_not_canceled  avg_price_per_room  \\\n",
       "0                                     0               65.00   \n",
       "1                                     0              106.68   \n",
       "2                                     0               60.00   \n",
       "3                                     0              100.00   \n",
       "4                                     0               94.50   \n",
       "\n",
       "   no_of_special_requests  booking_status  type_of_meal_plan_Meal Plan 2  \\\n",
       "0                       0               0                              0   \n",
       "1                       1               0                              0   \n",
       "2                       0               1                              0   \n",
       "3                       0               1                              0   \n",
       "4                       0               1                              0   \n",
       "\n",
       "   type_of_meal_plan_Meal Plan 3  type_of_meal_plan_Not Selected  \\\n",
       "0                              0                               0   \n",
       "1                              0                               1   \n",
       "2                              0                               0   \n",
       "3                              0                               0   \n",
       "4                              0                               1   \n",
       "\n",
       "   room_type_reserved_Room_Type 2  room_type_reserved_Room_Type 3  \\\n",
       "0                               0                               0   \n",
       "1                               0                               0   \n",
       "2                               0                               0   \n",
       "3                               0                               0   \n",
       "4                               0                               0   \n",
       "\n",
       "   room_type_reserved_Room_Type 4  room_type_reserved_Room_Type 5  \\\n",
       "0                               0                               0   \n",
       "1                               0                               0   \n",
       "2                               0                               0   \n",
       "3                               0                               0   \n",
       "4                               0                               0   \n",
       "\n",
       "   room_type_reserved_Room_Type 6  room_type_reserved_Room_Type 7  \\\n",
       "0                               0                               0   \n",
       "1                               0                               0   \n",
       "2                               0                               0   \n",
       "3                               0                               0   \n",
       "4                               0                               0   \n",
       "\n",
       "   market_segment_type_Complementary  market_segment_type_Corporate  \\\n",
       "0                                  0                              0   \n",
       "1                                  0                              0   \n",
       "2                                  0                              0   \n",
       "3                                  0                              0   \n",
       "4                                  0                              0   \n",
       "\n",
       "   market_segment_type_Offline  market_segment_type_Online  \n",
       "0                            1                           0  \n",
       "1                            0                           1  \n",
       "2                            0                           1  \n",
       "3                            0                           1  \n",
       "4                            0                           1  "
      ]
     },
     "execution_count": 23,
     "metadata": {},
     "output_type": "execute_result"
    }
   ],
   "source": [
    "data.head()"
   ]
  },
  {
   "cell_type": "markdown",
   "id": "51d4dae9",
   "metadata": {},
   "source": [
    "### Seperating dependent and Independent variable"
   ]
  },
  {
   "cell_type": "code",
   "execution_count": 24,
   "id": "396e51c8",
   "metadata": {},
   "outputs": [],
   "source": [
    "X = data.drop('booking_status',axis=1)\n",
    "y = pd.DataFrame(data.booking_status,columns=['booking_status'])"
   ]
  },
  {
   "cell_type": "code",
   "execution_count": 25,
   "id": "a6998ae7",
   "metadata": {},
   "outputs": [
    {
     "name": "stdout",
     "output_type": "stream",
     "text": [
      "Independent Features shape = (36275, 27), Dependent Features Shape = (36275, 1)\n"
     ]
    }
   ],
   "source": [
    "print(f'Independent Features shape = {X.shape}, Dependent Features Shape = {y.shape}')"
   ]
  },
  {
   "cell_type": "markdown",
   "id": "86eab439",
   "metadata": {},
   "source": [
    "### Performing Train-Test-Split"
   ]
  },
  {
   "cell_type": "code",
   "execution_count": 26,
   "id": "992dba78",
   "metadata": {},
   "outputs": [],
   "source": [
    "X_train,X_test,y_train,y_test = train_test_split(X,y,test_size =0.3,random_state = 14)"
   ]
  },
  {
   "cell_type": "code",
   "execution_count": 27,
   "id": "ab46f3a5",
   "metadata": {},
   "outputs": [],
   "source": [
    "from sklearn.preprocessing import StandardScaler\n",
    "sc=StandardScaler()\n",
    "X_train=sc.fit_transform(X_train)\n",
    "X_test=sc.transform(X_test)"
   ]
  },
  {
   "cell_type": "markdown",
   "id": "ab91cacd",
   "metadata": {},
   "source": [
    "### Logistic Regression"
   ]
  },
  {
   "cell_type": "code",
   "execution_count": 28,
   "id": "7c125dc7",
   "metadata": {},
   "outputs": [
    {
     "name": "stdout",
     "output_type": "stream",
     "text": [
      "              precision    recall  f1-score   support\n",
      "\n",
      "           0       0.83      0.89      0.86     17046\n",
      "           1       0.74      0.63      0.68      8346\n",
      "\n",
      "    accuracy                           0.81     25392\n",
      "   macro avg       0.79      0.76      0.77     25392\n",
      "weighted avg       0.80      0.81      0.80     25392\n",
      "\n",
      "[[15191  1855]\n",
      " [ 3058  5288]]\n"
     ]
    }
   ],
   "source": [
    "LR=LogisticRegression()\n",
    "LR.fit(X_train,y_train)\n",
    "y_train_pred = LR.predict(X_train)\n",
    "y_test_pred = LR.predict(X_test)\n",
    "print(classification_report(y_train,y_train_pred))\n",
    "print(confusion_matrix(y_train,y_train_pred))"
   ]
  },
  {
   "cell_type": "markdown",
   "id": "25bc2b2b",
   "metadata": {},
   "source": [
    "### Decision Tree"
   ]
  },
  {
   "cell_type": "code",
   "execution_count": 29,
   "id": "c8cb107c",
   "metadata": {},
   "outputs": [
    {
     "name": "stdout",
     "output_type": "stream",
     "text": [
      "              precision    recall  f1-score   support\n",
      "\n",
      "           0       0.99      1.00      1.00     17046\n",
      "           1       1.00      0.99      0.99      8346\n",
      "\n",
      "    accuracy                           0.99     25392\n",
      "   macro avg       1.00      0.99      0.99     25392\n",
      "weighted avg       0.99      0.99      0.99     25392\n",
      "\n",
      "[[17025    21]\n",
      " [  112  8234]]\n"
     ]
    }
   ],
   "source": [
    "DT=DecisionTreeClassifier()\n",
    "DT.fit(X_train,y_train)\n",
    "y_train_pred = DT.predict(X_train)\n",
    "y_test_pred = DT.predict(X_test)\n",
    "print(classification_report(y_train,y_train_pred))\n",
    "print(confusion_matrix(y_train,y_train_pred))"
   ]
  },
  {
   "cell_type": "code",
   "execution_count": 30,
   "id": "08f7702a",
   "metadata": {},
   "outputs": [
    {
     "name": "stdout",
     "output_type": "stream",
     "text": [
      "              precision    recall  f1-score   support\n",
      "\n",
      "           0       0.91      0.90      0.90      7344\n",
      "           1       0.80      0.81      0.80      3539\n",
      "\n",
      "    accuracy                           0.87     10883\n",
      "   macro avg       0.85      0.85      0.85     10883\n",
      "weighted avg       0.87      0.87      0.87     10883\n",
      "\n",
      "[[6614  730]\n",
      " [ 684 2855]]\n"
     ]
    }
   ],
   "source": [
    "print(classification_report(y_test,y_test_pred))\n",
    "print(confusion_matrix(y_test,y_test_pred))"
   ]
  },
  {
   "cell_type": "markdown",
   "id": "a77bb508",
   "metadata": {},
   "source": [
    "### Random Forest"
   ]
  },
  {
   "cell_type": "code",
   "execution_count": 31,
   "id": "d8beae71",
   "metadata": {},
   "outputs": [
    {
     "name": "stdout",
     "output_type": "stream",
     "text": [
      "              precision    recall  f1-score   support\n",
      "\n",
      "           0       0.99      1.00      1.00     17046\n",
      "           1       1.00      0.99      0.99      8346\n",
      "\n",
      "    accuracy                           0.99     25392\n",
      "   macro avg       1.00      0.99      0.99     25392\n",
      "weighted avg       0.99      0.99      0.99     25392\n",
      "\n",
      "[[17015    31]\n",
      " [  102  8244]]\n"
     ]
    }
   ],
   "source": [
    "RF=RandomForestClassifier()\n",
    "RF.fit(X_train,y_train)\n",
    "y_train_pred = RF.predict(X_train)\n",
    "y_test_pred = RF.predict(X_test)\n",
    "print(classification_report(y_train,y_train_pred))\n",
    "print(confusion_matrix(y_train,y_train_pred))"
   ]
  },
  {
   "cell_type": "code",
   "execution_count": 32,
   "id": "79cbc4dd",
   "metadata": {},
   "outputs": [
    {
     "name": "stdout",
     "output_type": "stream",
     "text": [
      "              precision    recall  f1-score   support\n",
      "\n",
      "           0       0.91      0.95      0.93      7344\n",
      "           1       0.88      0.81      0.84      3539\n",
      "\n",
      "    accuracy                           0.90     10883\n",
      "   macro avg       0.89      0.88      0.88     10883\n",
      "weighted avg       0.90      0.90      0.90     10883\n",
      "\n",
      "[[6942  402]\n",
      " [ 679 2860]]\n"
     ]
    }
   ],
   "source": [
    "print(classification_report(y_test,y_test_pred))\n",
    "print(confusion_matrix(y_test,y_test_pred))"
   ]
  },
  {
   "cell_type": "markdown",
   "id": "ea31efa5",
   "metadata": {},
   "source": [
    "### My random forest model is giving me the highest accuracy for test data hence let me perform hyperparameter tuning for random forest model"
   ]
  },
  {
   "cell_type": "code",
   "execution_count": 33,
   "id": "55eccf5b",
   "metadata": {},
   "outputs": [],
   "source": [
    "## Establishing some parameters\n",
    "parameters = {'n_estimators':[100,200,300],\n",
    "              'max_features':['log2', 'sqrt'],\n",
    "              'max_depth':[3,4,5,6,7],\n",
    "              'min_samples_split':[2,6,8,10,14],\n",
    "              'min_samples_leaf':[1,2,3,4,5],\n",
    "              'criterion':['gini', 'entropy', 'log_loss']\n",
    "              }"
   ]
  },
  {
   "cell_type": "code",
   "execution_count": 34,
   "id": "33accfd7",
   "metadata": {},
   "outputs": [],
   "source": [
    "from sklearn.model_selection import RandomizedSearchCV\n",
    "\n",
    "RF_model = RandomizedSearchCV(estimator = RF,param_distributions = parameters,cv=5,random_state = 0)"
   ]
  },
  {
   "cell_type": "code",
   "execution_count": null,
   "id": "bffcb1e2",
   "metadata": {},
   "outputs": [],
   "source": [
    "RF_model.fit(X_train,y_train)"
   ]
  },
  {
   "cell_type": "code",
   "execution_count": null,
   "id": "df7973c4",
   "metadata": {},
   "outputs": [],
   "source": [
    "# best Parameter\n",
    "RF_model.best_params_"
   ]
  },
  {
   "cell_type": "code",
   "execution_count": null,
   "id": "69f3461f",
   "metadata": {},
   "outputs": [],
   "source": [
    "RF=RandomForestClassifier(n_estimators= 100,min_samples_split= 2,min_samples_leaf= 3,max_features= 'sqrt',max_depth= 7,criterion= 'gini')\n",
    "RF.fit(X_train,y_train)\n",
    "y_train_pred = RF.predict(X_train)\n",
    "y_test_pred = RF.predict(X_test)\n",
    "print(classification_report(y_train,y_train_pred))\n",
    "print(confusion_matrix(y_train,y_train_pred))"
   ]
  },
  {
   "cell_type": "code",
   "execution_count": null,
   "id": "3bf0634a",
   "metadata": {},
   "outputs": [],
   "source": [
    "print(classification_report(y_test,y_test_pred))\n",
    "print(confusion_matrix(y_test,y_test_pred))"
   ]
  },
  {
   "cell_type": "markdown",
   "id": "f5ca412f",
   "metadata": {},
   "source": [
    "### Hence I've gotten 85% accuracy for my training and test data and it has also overcome overfitting."
   ]
  },
  {
   "cell_type": "markdown",
   "id": "6c274131",
   "metadata": {},
   "source": [
    "### Let me select best features and train my model once again to see if my accuracy increases even more"
   ]
  },
  {
   "cell_type": "markdown",
   "id": "ee06e577",
   "metadata": {},
   "source": [
    "## Type of Feature Selection Method "
   ]
  },
  {
   "cell_type": "markdown",
   "id": "7fcf580c",
   "metadata": {},
   "source": [
    "### 1. Filter Methods"
   ]
  },
  {
   "attachments": {
    "image.png": {
     "image/png": "[encoded data removed]"
    }
   },
   "cell_type": "markdown",
   "id": "51842034",
   "metadata": {},
   "source": [
    "![image.png](attachment:image.png)"
   ]
  },
  {
   "cell_type": "markdown",
   "id": "d0b0937a",
   "metadata": {},
   "source": [
    "The Features are measured via univariate statistics instead of cross validation\n",
    "This method is faster and less computational expensive than wrapper method"
   ]
  },
  {
   "cell_type": "markdown",
   "id": "e0807354",
   "metadata": {},
   "source": [
    "**a. Information Gain:**\n",
    "    Information gain calculates the reduction in entropy from the transformation of a dataset. It can be used for feature selection by evaluating the Information gain of each variable in the context of the target variable."
   ]
  },
  {
   "cell_type": "code",
   "execution_count": null,
   "id": "c70deec9",
   "metadata": {},
   "outputs": [],
   "source": [
    "from sklearn.feature_selection import mutual_info_classif\n",
    "import matplotlib.pyplot as plt\n",
    "\n",
    "importances = mutual_info_classif(X,y)\n",
    "feat_importances = pd.Series(importances,X.columns)\n",
    "sorted_importances = feat_importances.sort_values()\n",
    "sorted_importances.plot(kind='barh')\n",
    "plt.show()"
   ]
  },
  {
   "cell_type": "code",
   "execution_count": null,
   "id": "7c32fa7b",
   "metadata": {},
   "outputs": [],
   "source": [
    "sorted_importances[-10:].sort_values(ascending=False).index"
   ]
  },
  {
   "cell_type": "code",
   "execution_count": null,
   "id": "ac39da97",
   "metadata": {},
   "outputs": [],
   "source": [
    "X = data[sorted_importances[-10:].sort_values(ascending=False).index]"
   ]
  },
  {
   "cell_type": "code",
   "execution_count": null,
   "id": "76494c66",
   "metadata": {},
   "outputs": [],
   "source": [
    "X_train,X_test,y_train,y_test = train_test_split(X,y,test_size =0.3,random_state = 14)"
   ]
  },
  {
   "cell_type": "code",
   "execution_count": null,
   "id": "4a0416e0",
   "metadata": {},
   "outputs": [],
   "source": [
    "RF_model.fit(X_train,y_train)"
   ]
  },
  {
   "cell_type": "code",
   "execution_count": null,
   "id": "f0b5ea3e",
   "metadata": {},
   "outputs": [],
   "source": [
    "# best Parameter\n",
    "RF_model.best_params_"
   ]
  },
  {
   "cell_type": "code",
   "execution_count": null,
   "id": "07740bef",
   "metadata": {},
   "outputs": [],
   "source": [
    "RF=RandomForestClassifier(n_estimators= 100,min_samples_split= 2,min_samples_leaf= 3,max_features= 'sqrt',max_depth= 7,criterion= 'gini')\n",
    "RF.fit(X_train,y_train)\n",
    "y_train_pred = RF.predict(X_train)\n",
    "y_test_pred = RF.predict(X_test)\n",
    "print(classification_report(y_train,y_train_pred))\n",
    "print(confusion_matrix(y_train,y_train_pred))"
   ]
  },
  {
   "cell_type": "code",
   "execution_count": null,
   "id": "b2b7282c",
   "metadata": {},
   "outputs": [],
   "source": [
    "print(classification_report(y_test,y_test_pred))\n",
    "print(confusion_matrix(y_test,y_test_pred))"
   ]
  },
  {
   "cell_type": "markdown",
   "id": "3f4b5c1c",
   "metadata": {},
   "source": [
    "## b.Chi-square Test\n",
    "\n",
    "The Chi-square test is used for categorical features in a dataset. We calculate Chi-square between each feature and the target and select the desired number of features with the best Chi-square scores. In order to correctly apply the chi-squared to test the relation between various features in the dataset and the target variable, the following conditions have to be met: the variables have to be categorical, sampled independently and features must be non negative values"
   ]
  },
  {
   "cell_type": "code",
   "execution_count": null,
   "id": "3b6fbf0e",
   "metadata": {},
   "outputs": [],
   "source": [
    "from sklearn.feature_selection import SelectKBest, chi2\n",
    "\n",
    "#apply SelectKBest class to extract top 10 best features\n",
    "bestfeatures = SelectKBest(score_func=chi2, k=10)\n",
    "\n",
    "fit = bestfeatures.fit(X,y)\n",
    "\n",
    "dfscores = pd.DataFrame(fit.scores_)\n",
    "dfcolumns = pd.DataFrame(X.columns)\n",
    "\n",
    "#concat two dataframes for better visualization \n",
    "featureScores = pd.concat([dfcolumns,dfscores],axis=1)\n",
    "featureScores.columns = ['Specs','Score']  #naming the dataframe columns\n",
    "featureScores\n",
    "\n"
   ]
  },
  {
   "cell_type": "code",
   "execution_count": null,
   "id": "17310bf4",
   "metadata": {},
   "outputs": [],
   "source": [
    "print(featureScores.nlargest(10,'Score'))  #print 10 best features"
   ]
  },
  {
   "cell_type": "code",
   "execution_count": null,
   "id": "ef2f2efa",
   "metadata": {},
   "outputs": [],
   "source": [
    "X= data[featureScores.nlargest(15,'Score')['Specs'].values]"
   ]
  },
  {
   "cell_type": "code",
   "execution_count": null,
   "id": "865ef6f4",
   "metadata": {},
   "outputs": [],
   "source": [
    "X_train,X_test,y_train,y_test = train_test_split(X,y,test_size =0.3,random_state = 14)"
   ]
  },
  {
   "cell_type": "code",
   "execution_count": null,
   "id": "49150e86",
   "metadata": {},
   "outputs": [],
   "source": [
    "RF_model.fit(X_train,y_train)"
   ]
  },
  {
   "cell_type": "code",
   "execution_count": null,
   "id": "b20e109d",
   "metadata": {},
   "outputs": [],
   "source": [
    "# best Parameter\n",
    "RF_model.best_params_"
   ]
  },
  {
   "cell_type": "code",
   "execution_count": null,
   "id": "5cad0582",
   "metadata": {},
   "outputs": [],
   "source": [
    "RF=RandomForestClassifier(n_estimators= 400,min_samples_split= 2,min_samples_leaf= 4,max_features= 'log2',max_depth= 8,criterion= 'gini')\n",
    "RF.fit(X_train,y_train)\n",
    "y_train_pred = RF.predict(X_train)\n",
    "y_test_pred = RF.predict(X_test)\n",
    "print(classification_report(y_train,y_train_pred))\n",
    "print(confusion_matrix(y_train,y_train_pred))"
   ]
  },
  {
   "cell_type": "code",
   "execution_count": null,
   "id": "6c5f946f",
   "metadata": {},
   "outputs": [],
   "source": [
    "print(classification_report(y_test,y_test_pred))\n",
    "print(confusion_matrix(y_test,y_test_pred))"
   ]
  },
  {
   "cell_type": "markdown",
   "id": "e68d9f15",
   "metadata": {},
   "source": [
    "### c.Correlation Coefficient\n",
    "\n",
    "Correlation is a measure of the linear relationship between 2 or more variables. Through correlation, we can predict one variable from the other. The logic behind using correlation for feature selection is that good variables correlate highly with the target. Furthermore, variables should be correlated with the target but uncorrelated among themselves.\n",
    "\n",
    "If two variables are correlated, we can predict one from the other. Therefore, if two features are correlated, the model only needs one, as the second does not add additional information. We will use the Pearson Correlation here."
   ]
  },
  {
   "cell_type": "markdown",
   "id": "e613d303",
   "metadata": {},
   "source": [
    "Heatmap makes it easy to identify which features are most related to the target variable, we will plot heatmap of correlated features using the seaborn library."
   ]
  },
  {
   "cell_type": "code",
   "execution_count": null,
   "id": "8b73be6d",
   "metadata": {},
   "outputs": [],
   "source": [
    "#get correlations of each features in dataset\n",
    "corrmat = data.corr()\n",
    "top_corr_features = corrmat.index\n",
    "plt.figure(figsize=(20,20))\n",
    "#plot heat map\n",
    "g=sns.heatmap(data[top_corr_features].corr(),annot=True,cmap=\"RdYlGn\")"
   ]
  },
  {
   "cell_type": "code",
   "execution_count": null,
   "id": "660142d5",
   "metadata": {},
   "outputs": [],
   "source": [
    "# with the following function we can select highly correlated features\n",
    "# it will remove the first feature that is correlated with anything other feature\n",
    "\n",
    "def correlation(dataset, threshold):     #Threshold is the limit above which we want to check for correlation\n",
    "    col_corr = set()  # Set of all the names of correlated columns\n",
    "    corr_matrix = dataset.corr()\n",
    "    for i in range(len(corr_matrix.columns)):\n",
    "        for j in range(i):\n",
    "            if abs(corr_matrix.iloc[i, j]) > threshold: # we are interested in absolute coeff value\n",
    "                colname = corr_matrix.columns[i]  # getting the name of column\n",
    "                col_corr.add(colname)\n",
    "    return col_corr"
   ]
  },
  {
   "cell_type": "code",
   "execution_count": null,
   "id": "d1e95936",
   "metadata": {},
   "outputs": [],
   "source": [
    "corr_features = correlation(X_train, 0.3)"
   ]
  },
  {
   "cell_type": "code",
   "execution_count": null,
   "id": "f05919c9",
   "metadata": {},
   "outputs": [],
   "source": [
    "corr_features\n"
   ]
  },
  {
   "cell_type": "code",
   "execution_count": null,
   "id": "de08bcf0",
   "metadata": {},
   "outputs": [],
   "source": [
    "X_train.drop(corr_features,axis=1,inplace = True)      ##Removing correlated features from Xtrain and Xtest\n",
    "X_test.drop(corr_features,axis=1,inplace=True)"
   ]
  },
  {
   "cell_type": "code",
   "execution_count": null,
   "id": "7141cbe2",
   "metadata": {},
   "outputs": [],
   "source": [
    "RF=RandomForestClassifier(n_estimators= 400,min_samples_split= 2,min_samples_leaf= 4,max_features= 'log2',max_depth= 8,criterion= 'gini')\n",
    "RF.fit(best_features,y_train)\n",
    "y_train_pred = RF.predict(best_features)\n",
    "y_test_pred = RF.predict(test_best_features)\n",
    "print(classification_report(y_train,y_train_pred))\n",
    "print(confusion_matrix(y_train,y_train_pred))"
   ]
  },
  {
   "cell_type": "code",
   "execution_count": null,
   "id": "3ca1cb99",
   "metadata": {},
   "outputs": [],
   "source": [
    "print(classification_report(y_test,y_test_pred))\n",
    "print(confusion_matrix(y_test,y_test_pred))"
   ]
  },
  {
   "cell_type": "markdown",
   "id": "7db77c38",
   "metadata": {},
   "source": [
    "### In Filter method Correlation gave me the best accuracy - 86%"
   ]
  },
  {
   "cell_type": "markdown",
   "id": "b090ea9a",
   "metadata": {},
   "source": [
    "## 2. Wrapper Methods\n",
    "The feature selection process is based on a specific machine learning algorithm we are trying to fit on a given dataset. It follows a greedy search approach by evaluating all the possible combinations of features against the evaluation criterion. The wrapper methods usually result in better predictive accuracy than filter methods."
   ]
  },
  {
   "cell_type": "markdown",
   "id": "94702f1d",
   "metadata": {},
   "source": [
    "\n",
    "\n",
    "This is an iterative method wherein we start with the performing features against the target features. Next, we select another variable that gives the best performance in combination with the first selected variable. This process continues until the preset criterion is achieved."
   ]
  },
  {
   "cell_type": "markdown",
   "id": "ed5e2045",
   "metadata": {},
   "source": [
    "Only useful when data is small"
   ]
  },
  {
   "cell_type": "markdown",
   "id": "e3f162d4",
   "metadata": {},
   "source": [
    "There are 3 methods in Wrapper Methods:"
   ]
  },
  {
   "cell_type": "markdown",
   "id": "7cf3d336",
   "metadata": {},
   "source": [
    "1. Forward Selection: Forward selection is an iterative method in which we start with having no feature in the model. In each iteration, we keep adding the feature which best improves our model till an addition of a new variable does not improve the performance of the model."
   ]
  },
  {
   "cell_type": "markdown",
   "id": "54947c1b",
   "metadata": {},
   "source": [
    "2. Backward Elimination: In backward elimination, we start with all the features and removes the least significant feature at each iteration which improves the performance of the model. We repeat this until no improvement is observed on removal of features"
   ]
  },
  {
   "cell_type": "markdown",
   "id": "78f97ec2",
   "metadata": {},
   "source": [
    "### 3. RFE [Recursive Feature Elimination] is used for feature selection, It Eliminates the feature which having lowest coefficient \n",
    "\n",
    "#### Steps for using RFE:-\n",
    "1. Fit model to dataset\n",
    "2. Eliminate the feature with the smalest coefficient\n",
    "3. repeate the procedure 1 and 2 until u find the best feature [this will be done by using cv]"
   ]
  },
  {
   "cell_type": "markdown",
   "id": "0b3f7803",
   "metadata": {},
   "source": [
    " It is a greedy optimization algorithm which aims to find the best performing feature subset. It repeatedly creates models and keeps aside the best or the worst performing feature at each iteration. It constructs the next model with the left features until all the features are exhausted. It then ranks the features based on the order of their elimination."
   ]
  },
  {
   "cell_type": "code",
   "execution_count": null,
   "id": "992b27bf",
   "metadata": {},
   "outputs": [],
   "source": [
    "from sklearn.feature_selection import RFE"
   ]
  },
  {
   "cell_type": "code",
   "execution_count": null,
   "id": "b33aca74",
   "metadata": {},
   "outputs": [],
   "source": [
    "rfe = RFE(estimator=RF, n_features_to_select=10, step=1)                # randomly selecting n_features_to_select=5 \n",
    "rfe.fit(X_train, y_train)                                              # will consider optimal feature by doing cross validation\n",
    "\n",
    "X_train_sub = rfe.transform(X_train)"
   ]
  },
  {
   "cell_type": "markdown",
   "id": "31f7be0e",
   "metadata": {},
   "source": [
    "Let's break down the code step by step:\n",
    "\n",
    "rfe = RFE(estimator=RF, n_features_to_select=10, step=1): This line initializes the RFE object,specifying the estimator (RF, which is a RandomForest instance),the number of features to select (n_features_to_select=10), and the step size (step=1).\n",
    "RFE is a feature selection technique that recursively eliminates features based on their importance,\n",
    "and the specified parameters control the behavior of the feature selection process.\n",
    "\n",
    "rfe.fit(X_train, y_train): This line fits the RFE object to the training data X_train and the corresponding target variable y_train. During the fitting process, RFE evaluates the importance of each feature by performing cross-validation and recursively eliminates the least important features until the desired number of features (n_features_to_select=10) is reached.\n",
    "\n",
    "X_train_sub = rfe.transform(X_train): This line applies the feature selection determined by RFE to the training data X_train. It transforms X_train into a new dataset X_train_sub that contains only the selected features. The transformed dataset will have fewer columns (features) than the original X_train dataset, as the least important features have been eliminated."
   ]
  },
  {
   "cell_type": "code",
   "execution_count": null,
   "id": "623fbc1c",
   "metadata": {},
   "outputs": [],
   "source": [
    "rfe.support_           #The attribute rfe.support_ provides a boolean mask that indicates which features were selected or not by the Recursive Feature Elimination (RFE) algorithm."
   ]
  },
  {
   "cell_type": "code",
   "execution_count": null,
   "id": "97ab5f36",
   "metadata": {},
   "outputs": [],
   "source": [
    "X.columns[rfe.support_]  "
   ]
  },
  {
   "cell_type": "code",
   "execution_count": null,
   "id": "a767696b",
   "metadata": {},
   "outputs": [],
   "source": [
    "best_features = X_train[X.columns[rfe.support_]]"
   ]
  },
  {
   "cell_type": "code",
   "execution_count": null,
   "id": "2a4b7bf3",
   "metadata": {},
   "outputs": [],
   "source": [
    "test_best_features = X_test[X.columns[rfe.support_]]"
   ]
  },
  {
   "cell_type": "code",
   "execution_count": null,
   "id": "b7ea9f5f",
   "metadata": {},
   "outputs": [],
   "source": [
    "RF_model.fit(best_features,y_train)"
   ]
  },
  {
   "cell_type": "code",
   "execution_count": null,
   "id": "e0411558",
   "metadata": {},
   "outputs": [],
   "source": [
    "# best Parameter\n",
    "RF_model.best_params_"
   ]
  },
  {
   "cell_type": "code",
   "execution_count": null,
   "id": "d91a6202",
   "metadata": {},
   "outputs": [],
   "source": [
    "RF=RandomForestClassifier(n_estimators= 400,min_samples_split= 2,min_samples_leaf= 4,max_features= 'log2',max_depth= 8,criterion= 'gini')\n",
    "RF.fit(best_features,y_train)\n",
    "y_train_pred = RF.predict(best_features)\n",
    "y_test_pred = RF.predict(test_best_features)\n",
    "print(classification_report(y_train,y_train_pred))\n",
    "print(confusion_matrix(y_train,y_train_pred))"
   ]
  },
  {
   "cell_type": "code",
   "execution_count": null,
   "id": "d8f384db",
   "metadata": {},
   "outputs": [],
   "source": [
    "print(classification_report(y_test,y_test_pred))\n",
    "print(confusion_matrix(y_test,y_test_pred))"
   ]
  },
  {
   "cell_type": "markdown",
   "id": "225a9cf3",
   "metadata": {},
   "source": [
    "### RFE method is also giving me 86% accuracy"
   ]
  },
  {
   "cell_type": "markdown",
   "id": "33cbe514",
   "metadata": {},
   "source": [
    "## 3. Embedded Methods\n",
    "These methods encompass the benefits of both the wrapper and filter methods by including interactions of features"
   ]
  },
  {
   "attachments": {
    "image.png": {
     "image/png": "[encoded data removed]"
    }
   },
   "cell_type": "markdown",
   "id": "480a96c3",
   "metadata": {},
   "source": [
    "![image.png](attachment:image.png)"
   ]
  },
  {
   "cell_type": "markdown",
   "id": "d6c3d46b",
   "metadata": {},
   "source": [
    "### a. LASSO Regularization (L1)\n",
    "\n",
    "Regularization consists of adding a penalty to the different parameters of the machine learning model to reduce the freedom of the model, i.e., to avoid over-fitting."
   ]
  },
  {
   "cell_type": "code",
   "execution_count": null,
   "id": "0d4f426a",
   "metadata": {},
   "outputs": [],
   "source": [
    "from sklearn.linear_model import Lasso\n",
    "\n",
    "\n",
    "# It creates an instance of the Lasso model with a specified regularization parameter alpha=0.1.\n",
    "lasso = Lasso(alpha=0.1)\n",
    "\n",
    "# Fit the model to the data\n",
    "lasso.fit(X, y)\n",
    "\n",
    "# Get the coefficients and corresponding feature names\n",
    "coefficients = lasso.coef_\n",
    "feature_names = X.columns\n",
    "\n",
    "# Print the coefficients and selected features\n",
    "print(\"Coefficients:\")\n",
    "for feature, coef in zip(feature_names, coefficients):\n",
    "    print(f\"{feature}: {coef}\")\n",
    "    \n",
    "# Print the selected features\n",
    "selected_features = [feature for feature, coef in zip(feature_names, coefficients) if coef != 0]\n",
    "print(\"\\nSelected Features:\")\n",
    "for feature in selected_features:\n",
    "    print(feature)"
   ]
  },
  {
   "cell_type": "markdown",
   "id": "8c7e2da9",
   "metadata": {},
   "source": [
    "We print the coefficients and selected features. Coefficients with a value of zero indicate that the corresponding feature has been effectively eliminated from the model. We extract the selected features by filtering out the coefficients that are not zero."
   ]
  },
  {
   "cell_type": "markdown",
   "id": "f403d904",
   "metadata": {},
   "source": [
    "The Lasso model includes a penalty term that promotes the selection of features by shrinking the coefficients towards zero. By setting some coefficients to zero, the Lasso effectively performs feature selection by excluding those features from the model. This property makes Lasso particularly useful when dealing with high-dimensional datasets, where only a subset of features may be relevant.\n",
    "\n",
    "The loop 'for feature, coef in zip(feature_names, coefficients)' iterates over the feature names and their corresponding coefficients. The condition coef != 0 checks if the coefficient is non-zero. If the condition is true, the feature name is added to the selected_features list.\n",
    "\n",
    "By printing only the features with non-zero coefficients, the code focuses on the subset of features that are considered important by the Lasso model. These non-zero coefficient features are believed to have a stronger influence on the target variable and are retained in the model.\n",
    "\n",
    "The Lasso model's ability to set coefficients to zero allows for automatic feature selection and can be helpful in situations where there is a need to identify a sparse set of influential features."
   ]
  },
  {
   "cell_type": "code",
   "execution_count": null,
   "id": "264d1ef7",
   "metadata": {},
   "outputs": [],
   "source": [
    "X= data[selected_features]"
   ]
  },
  {
   "cell_type": "code",
   "execution_count": null,
   "id": "416ce07d",
   "metadata": {},
   "outputs": [],
   "source": [
    "X_train,X_test,y_train,y_test = train_test_split(X,y,test_size =0.3,random_state = 14)"
   ]
  },
  {
   "cell_type": "code",
   "execution_count": null,
   "id": "ed867928",
   "metadata": {},
   "outputs": [],
   "source": [
    "RF=RandomForestClassifier(n_estimators= 400,min_samples_split= 2,min_samples_leaf= 4,max_features= 'log2',max_depth= 8,criterion= 'gini')\n",
    "RF.fit(X_train,y_train)\n",
    "y_train_pred = RF.predict(X_train)\n",
    "y_test_pred = RF.predict(X_test)\n",
    "print(classification_report(y_train,y_train_pred))\n",
    "print(confusion_matrix(y_train,y_train_pred))"
   ]
  },
  {
   "cell_type": "code",
   "execution_count": null,
   "id": "450adcb9",
   "metadata": {},
   "outputs": [],
   "source": [
    "print(classification_report(y_test,y_test_pred))\n",
    "print(confusion_matrix(y_test,y_test_pred))"
   ]
  },
  {
   "cell_type": "markdown",
   "id": "1fb2bd62",
   "metadata": {},
   "source": [
    "### b. Random Forest Importance"
   ]
  },
  {
   "cell_type": "markdown",
   "id": "20d448a7",
   "metadata": {},
   "source": [
    "The **feature_importances_** feature help identify which features are most important in the Random Forest model's decision-making process."
   ]
  },
  {
   "cell_type": "markdown",
   "id": "b66c6736",
   "metadata": {},
   "source": [
    "In the context of feature selection, feature importances can guide the selection of the most relevant features for a RandomForest model. By examining the feature importances, you can identify the features that contribute the most to the model's predictive power. This information can help you focus on the most informative features and potentially discard less important ones."
   ]
  },
  {
   "cell_type": "code",
   "execution_count": null,
   "id": "a57bc414",
   "metadata": {},
   "outputs": [],
   "source": [
    "RF = RandomForestClassifier(random_state=42)\n",
    "\n",
    "# Fit the model to the data\n",
    "RF.fit(X, y)\n",
    "\n",
    "# Get the feature importances\n",
    "importances = RF.feature_importances_\n",
    "feature_names = X.columns\n",
    "\n",
    "# Print the feature importances\n",
    "print(\"Feature Importances:\")\n",
    "for feature, importance in zip(feature_names, importances):\n",
    "    print(f\"{feature}: {importance}\")\n",
    "\n",
    "# Creating a dataframe for visualization\n",
    "final_df = pd.DataFrame({'Features':feature_names,\"Importances\":importances})\n",
    "final_df.set_index('Features',inplace=True)\n",
    "sorted_importances = final_df.sort_values(by = 'Importances')\n",
    "sorted_importances.plot(kind='barh')\n",
    "plt.show()"
   ]
  },
  {
   "cell_type": "code",
   "execution_count": null,
   "id": "8cadb956",
   "metadata": {},
   "outputs": [],
   "source": [
    "X = data[final_df.nlargest(10,'Importances')['Importances'].index]"
   ]
  },
  {
   "cell_type": "code",
   "execution_count": null,
   "id": "c65cd5c4",
   "metadata": {},
   "outputs": [],
   "source": [
    "X_train,X_test,y_train,y_test = train_test_split(X,y,test_size =0.3,random_state = 14)"
   ]
  },
  {
   "cell_type": "code",
   "execution_count": null,
   "id": "8a7e2474",
   "metadata": {},
   "outputs": [],
   "source": [
    "RF=RandomForestClassifier()\n",
    "RF.fit(X_train,y_train)\n",
    "y_train_pred = RF.predict(X_train)\n",
    "y_test_pred = RF.predict(X_test)\n",
    "print(classification_report(y_train,y_train_pred))\n",
    "print(confusion_matrix(y_train,y_train_pred))"
   ]
  },
  {
   "cell_type": "code",
   "execution_count": null,
   "id": "3453c580",
   "metadata": {},
   "outputs": [],
   "source": [
    "print(classification_report(y_test,y_test_pred))\n",
    "print(confusion_matrix(y_test,y_test_pred))"
   ]
  },
  {
   "cell_type": "code",
   "execution_count": null,
   "id": "c818991d",
   "metadata": {},
   "outputs": [],
   "source": [
    "parameter={\n",
    " 'criterion':['gini','entropy','log_loss'],\n",
    "    'n_estimators':[100,200,300,400],\n",
    "  'min_samples_split':[2,3,4,5,6],\n",
    "   'min_samples_leaf':[2,3,4,5],\n",
    "  'max_depth':[4,5,6,7,8],\n",
    "  'max_features':['sqrt', 'log2']\n",
    "    }"
   ]
  },
  {
   "cell_type": "code",
   "execution_count": null,
   "id": "aaecb274",
   "metadata": {},
   "outputs": [],
   "source": [
    "from sklearn.model_selection import RandomizedSearchCV\n",
    "\n",
    "RF_model = RandomizedSearchCV(estimator = RF,param_distributions = parameter,cv=5,random_state = 0)"
   ]
  },
  {
   "cell_type": "code",
   "execution_count": null,
   "id": "dc21cdbf",
   "metadata": {},
   "outputs": [],
   "source": [
    "RF_model.fit(X_train,y_train)"
   ]
  },
  {
   "cell_type": "code",
   "execution_count": null,
   "id": "8950c18a",
   "metadata": {},
   "outputs": [],
   "source": [
    "RF_model.best_params_"
   ]
  },
  {
   "cell_type": "code",
   "execution_count": null,
   "id": "7a4ab7ef",
   "metadata": {},
   "outputs": [],
   "source": [
    "RF=RandomForestClassifier(n_estimators= 400,min_samples_split= 2,min_samples_leaf= 4,max_features= 'log2',max_depth= 8,criterion= 'gini')\n",
    "RF.fit(X_train,y_train)\n",
    "y_train_pred = RF.predict(X_train)\n",
    "y_test_pred = RF.predict(X_test)\n",
    "print(classification_report(y_train,y_train_pred))\n",
    "print(confusion_matrix(y_train,y_train_pred))"
   ]
  },
  {
   "cell_type": "code",
   "execution_count": null,
   "id": "b13a3bf2",
   "metadata": {},
   "outputs": [],
   "source": [
    "print(classification_report(y_test,y_test_pred))\n",
    "print(confusion_matrix(y_test,y_test_pred))"
   ]
  },
  {
   "cell_type": "markdown",
   "id": "5a5eeddf",
   "metadata": {},
   "source": [
    "### 4. Hybrid Method"
   ]
  },
  {
   "cell_type": "markdown",
   "id": "2ee89328",
   "metadata": {},
   "source": [
    " Dimensionality reduction techniques, such as Principal Component Analysis (PCA) and Singular Value Decomposition (SVD), transform the original features into a lower-dimensional space while preserving important information. These methods are effective for reducing the feature space but do not explicitly select individual features."
   ]
  },
  {
   "cell_type": "markdown",
   "id": "e5bded97",
   "metadata": {},
   "source": [
    "### a. PCA"
   ]
  },
  {
   "cell_type": "markdown",
   "id": "295ad5bd",
   "metadata": {},
   "source": [
    "Step 1: Scale the data using Standard or Min-Max Scaler"
   ]
  },
  {
   "cell_type": "markdown",
   "id": "6f2d2d5c",
   "metadata": {},
   "source": [
    "Step 2 : Fit the scaled data using PCA which we can import from sklearn.decomposition"
   ]
  },
  {
   "cell_type": "markdown",
   "id": "2c24be09",
   "metadata": {},
   "source": [
    "Step 3: Plot the covariance matrix"
   ]
  },
  {
   "cell_type": "markdown",
   "id": "0f8fae48",
   "metadata": {},
   "source": [
    "Step 4: Create new subset with the selected features"
   ]
  },
  {
   "cell_type": "markdown",
   "id": "eec2de42",
   "metadata": {},
   "source": [
    "Step 3 : Build the model"
   ]
  },
  {
   "cell_type": "code",
   "execution_count": null,
   "id": "ae922a25",
   "metadata": {},
   "outputs": [],
   "source": [
    "from sklearn.preprocessing import StandardScaler\n",
    "sc=StandardScaler()\n",
    "sc_x=sc.fit_transform(X)\n",
    "scaled_x=pd.DataFrame(sc_x,columns=X.columns)\n",
    "scaled_x.head()"
   ]
  },
  {
   "cell_type": "markdown",
   "id": "05f8975e",
   "metadata": {},
   "source": [
    "Now our dataframe is ready to perfrom the PCA operation"
   ]
  },
  {
   "cell_type": "code",
   "execution_count": null,
   "id": "dde21550",
   "metadata": {},
   "outputs": [],
   "source": [
    "from sklearn.decomposition import PCA"
   ]
  },
  {
   "cell_type": "code",
   "execution_count": null,
   "id": "9bac083b",
   "metadata": {},
   "outputs": [],
   "source": [
    "pca = PCA(.95, random_state = 100)\n",
    "pca_data = pca.fit_transform(scaled_x)"
   ]
  },
  {
   "cell_type": "code",
   "execution_count": null,
   "id": "c7e35bf5",
   "metadata": {},
   "outputs": [],
   "source": [
    "pd.Series(zip(list(pca.explained_variance_ratio_), list(np.cumsum(pca.explained_variance_ratio_))))"
   ]
  },
  {
   "cell_type": "code",
   "execution_count": null,
   "id": "c74a4030",
   "metadata": {},
   "outputs": [],
   "source": [
    "df_bc_subset = pd.DataFrame(pca_data, columns= ['PC' + str(i+1) for i in range(23)])\n",
    "df_bc_subset.head()"
   ]
  },
  {
   "cell_type": "code",
   "execution_count": null,
   "id": "8b6293a6",
   "metadata": {},
   "outputs": [],
   "source": [
    "# now will build the model based on this PCA data\n",
    "# will seperate the data into independent and dependent features\n",
    "\n",
    "X=df_bc_subset\n",
    "y=y"
   ]
  },
  {
   "cell_type": "code",
   "execution_count": null,
   "id": "e7eabc5a",
   "metadata": {},
   "outputs": [],
   "source": [
    "X_train,X_test,y_train,y_test=train_test_split(X,y,test_size=0.3,random_state=42)"
   ]
  },
  {
   "cell_type": "code",
   "execution_count": null,
   "id": "ef769281",
   "metadata": {},
   "outputs": [],
   "source": [
    "RF=RandomForestClassifier(n_estimators= 400,min_samples_split= 2,min_samples_leaf= 4,max_features= 'log2',max_depth= 8,criterion= 'gini')\n",
    "RF.fit(X_train,y_train)\n",
    "y_train_pred = RF.predict(X_train)\n",
    "y_test_pred = RF.predict(X_test)\n",
    "print(classification_report(y_train,y_train_pred))\n",
    "print(confusion_matrix(y_train,y_train_pred))"
   ]
  },
  {
   "cell_type": "code",
   "execution_count": null,
   "id": "bb894362",
   "metadata": {},
   "outputs": [],
   "source": [
    "print(classification_report(y_test,y_test_pred))\n",
    "print(confusion_matrix(y_test,y_test_pred))"
   ]
  },
  {
   "cell_type": "markdown",
   "id": "2378d277",
   "metadata": {},
   "source": [
    "### PCA method is giving me the same 85% accuracy itself"
   ]
  },
  {
   "cell_type": "markdown",
   "id": "981ebc22",
   "metadata": {},
   "source": [
    "### So the best accuracy I got after feature selection, hypertuning and model building is 87%. The model which gave most accurate result was random forest and the feature selection used was Random Forest Importance."
   ]
  },
  {
   "cell_type": "markdown",
   "id": "6172d5d6",
   "metadata": {},
   "source": [
    "### Before feauture selection my model accuracy was 85%. But now it got increased to 87%"
   ]
  },
  {
   "cell_type": "code",
   "execution_count": null,
   "id": "530f35bc",
   "metadata": {},
   "outputs": [],
   "source": []
  },
  {
   "cell_type": "code",
   "execution_count": null,
   "id": "7e245590",
   "metadata": {},
   "outputs": [],
   "source": []
  },
  {
   "cell_type": "code",
   "execution_count": null,
   "id": "eb1de1f8",
   "metadata": {},
   "outputs": [],
   "source": []
  },
  {
   "cell_type": "code",
   "execution_count": null,
   "id": "6a78f085",
   "metadata": {},
   "outputs": [],
   "source": []
  }
 ],
 "metadata": {
  "kernelspec": {
   "display_name": "Python 3 (ipykernel)",
   "language": "python",
   "name": "python3"
  },
  "language_info": {
   "codemirror_mode": {
    "name": "ipython",
    "version": 3
   },
   "file_extension": ".py",
   "mimetype": "text/x-python",
   "name": "python",
   "nbconvert_exporter": "python",
   "pygments_lexer": "ipython3",
   "version": "3.10.9"
  }
 },
 "nbformat": 4,
 "nbformat_minor": 5
}
